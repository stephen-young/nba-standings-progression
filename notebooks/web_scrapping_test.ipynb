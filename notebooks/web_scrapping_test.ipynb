{
 "cells": [
  {
   "cell_type": "markdown",
   "metadata": {},
   "source": [
    "# Web scrapping standings data\n",
    "This notebook is for the testing of code for web scrapping the standings data by date from [Basketball Reference](https://basketball-reference.com)"
   ]
  },
  {
   "cell_type": "code",
   "execution_count": 17,
   "metadata": {},
   "outputs": [],
   "source": [
    "# Import packages for reading html off the website\n",
    "import requests\n",
    "from bs4 import BeautifulSoup\n",
    "from contextlib import closing"
   ]
  },
  {
   "cell_type": "code",
   "execution_count": 18,
   "metadata": {
    "tags": []
   },
   "outputs": [
    {
     "output_type": "stream",
     "name": "stdout",
     "text": "https://www.basketball-reference.com/leagues/NBA_2013_standings_by_date_eastern_conference.html\n"
    }
   ],
   "source": [
    "#Setup some basic parameters\n",
    "base_url = 'https://www.basketball-reference.com'\n",
    "season_end_year = 2013\n",
    "conference = 'eastern'\n",
    "\n",
    "url = f'{base_url}/leagues/NBA_{season_end_year}_standings_by_date_{conference}_conference.html'\n",
    "\n",
    "print(url)"
   ]
  },
  {
   "cell_type": "markdown",
   "metadata": {},
   "source": [
    "## Pandas library\n",
    "The pandas package includes a `read_html` function that can take in the url of the standings by date and covert it to a `DataFrame` and could forego the complications of writing my own webscrapping function."
   ]
  },
  {
   "cell_type": "code",
   "execution_count": 19,
   "metadata": {},
   "outputs": [],
   "source": [
    "import pandas as pd"
   ]
  },
  {
   "cell_type": "code",
   "execution_count": 20,
   "metadata": {},
   "outputs": [
    {
     "output_type": "execute_result",
     "data": {
      "text/plain": "[October            October                                            \\\n                        1st           2nd           3rd           4th   \n Oct 30, 2012  CLE (1-0) T1  MIA (1-0) T1  BOS (0-1) T3  WAS (0-1) T3   \n Oct 31, 2012  CHI (1-0) T1  CLE (1-0) T1  IND (1-0) T1  MIA (1-0) T1   \n November          November      November      November      November   \n NaN                    1st           2nd           3rd           4th   \n Nov 1, 2012   CHI (1-0) T1  CLE (1-0) T1  IND (1-0) T1  MIA (1-0) T1   \n ...                    ...           ...           ...           ...   \n Apr 13, 2013   MIA (63-16)   NYK (52-27)   IND (49-30)   BRK (47-32)   \n Apr 14, 2013   MIA (64-16)   NYK (53-27)   IND (49-31)   BRK (47-33)   \n Apr 15, 2013   MIA (65-16)   NYK (53-28)   IND (49-31)   BRK (48-33)   \n Apr 16, 2013   MIA (65-16)   NYK (53-28)   IND (49-31)   BRK (48-33)   \n Apr 17, 2013   MIA (66-16)   NYK (54-28)   IND (49-32)   BRK (49-33)   \n \n October                                                                   \\\n                          5th             6th           7th           8th   \n Oct 30, 2012             NaN             NaN           NaN           NaN   \n Oct 31, 2012    PHI (1-0) T1    BOS (0-1) T6  DET (0-1) T6  TOR (0-1) T6   \n November            November        November      November      November   \n NaN                      5th             6th           7th           8th   \n Nov 1, 2012     PHI (1-0) T1    BOS (0-1) T6  DET (0-1) T6  TOR (0-1) T6   \n ...                      ...             ...           ...           ...   \n Apr 13, 2013     ATL (44-36)     CHI (43-36)   BOS (41-39)   MIL (37-43)   \n Apr 14, 2013     ATL (44-36)     CHI (43-37)   BOS (41-39)   MIL (37-43)   \n Apr 15, 2013     ATL (44-36)     CHI (44-37)   BOS (41-39)   MIL (37-44)   \n Apr 16, 2013  ATL (44-37) T5  CHI (44-37) T5   BOS (41-39)   MIL (37-44)   \n Apr 17, 2013     CHI (45-37)     ATL (44-38)   BOS (41-40)   MIL (38-44)   \n \n October                                                        \\\n                          9th            10th             11th   \n Oct 30, 2012             NaN             NaN              NaN   \n Oct 31, 2012    WAS (0-1) T6             NaN              NaN   \n November            November        November         November   \n NaN                      9th            10th             11th   \n Nov 1, 2012     WAS (0-1) T6             NaN              NaN   \n ...                      ...             ...              ...   \n Apr 13, 2013     PHI (32-47)     TOR (31-48)      WAS (29-51)   \n Apr 14, 2013     PHI (33-47)     TOR (32-48)      WAS (29-51)   \n Apr 15, 2013     PHI (33-48)     TOR (32-48)  DET (29-52) T11   \n Apr 16, 2013  PHI (33-48) T9  TOR (33-48) T9  DET (29-52) T11   \n Apr 17, 2013  PHI (34-48) T9  TOR (34-48) T9  DET (29-53) T11   \n \n October                                                                       \n                          12th         13th             14th             15th  \n Oct 30, 2012              NaN          NaN              NaN              NaN  \n Oct 31, 2012              NaN          NaN              NaN              NaN  \n November             November     November         November         November  \n NaN                      12th         13th             14th             15th  \n Nov 1, 2012               NaN          NaN              NaN              NaN  \n ...                       ...          ...              ...              ...  \n Apr 13, 2013      DET (28-52)  CLE (24-55)      ORL (20-60)      CHA (19-61)  \n Apr 14, 2013      DET (28-52)  CLE (24-56)      ORL (20-60)      CHA (19-61)  \n Apr 15, 2013  WAS (29-52) T11  CLE (24-57)  CHA (20-61) T14  ORL (20-61) T14  \n Apr 16, 2013  WAS (29-52) T11  CLE (24-57)  CHA (20-61) T14  ORL (20-61) T14  \n Apr 17, 2013  WAS (29-53) T11  CLE (24-58)      CHA (21-61)      ORL (20-62)  \n \n [182 rows x 15 columns]]"
     },
     "metadata": {},
     "execution_count": 20
    }
   ],
   "source": [
    "dfs = pd.read_html(url, index_col=0, parse_dates=True)\n",
    "dfs"
   ]
  },
  {
   "cell_type": "code",
   "execution_count": 33,
   "metadata": {},
   "outputs": [
    {
     "output_type": "execute_result",
     "data": {
      "text/plain": "list"
     },
     "metadata": {},
     "execution_count": 33
    }
   ],
   "source": [
    "type(dfs)"
   ]
  },
  {
   "cell_type": "code",
   "execution_count": 21,
   "metadata": {},
   "outputs": [
    {
     "output_type": "execute_result",
     "data": {
      "text/plain": "1"
     },
     "metadata": {},
     "execution_count": 21
    }
   ],
   "source": [
    "len(dfs)"
   ]
  },
  {
   "cell_type": "code",
   "execution_count": 22,
   "metadata": {},
   "outputs": [
    {
     "output_type": "execute_result",
     "data": {
      "text/plain": "October            October                                            \\\n                       1st           2nd           3rd           4th   \nOct 30, 2012  CLE (1-0) T1  MIA (1-0) T1  BOS (0-1) T3  WAS (0-1) T3   \nOct 31, 2012  CHI (1-0) T1  CLE (1-0) T1  IND (1-0) T1  MIA (1-0) T1   \nNovember          November      November      November      November   \nNaN                    1st           2nd           3rd           4th   \nNov 1, 2012   CHI (1-0) T1  CLE (1-0) T1  IND (1-0) T1  MIA (1-0) T1   \n...                    ...           ...           ...           ...   \nApr 13, 2013   MIA (63-16)   NYK (52-27)   IND (49-30)   BRK (47-32)   \nApr 14, 2013   MIA (64-16)   NYK (53-27)   IND (49-31)   BRK (47-33)   \nApr 15, 2013   MIA (65-16)   NYK (53-28)   IND (49-31)   BRK (48-33)   \nApr 16, 2013   MIA (65-16)   NYK (53-28)   IND (49-31)   BRK (48-33)   \nApr 17, 2013   MIA (66-16)   NYK (54-28)   IND (49-32)   BRK (49-33)   \n\nOctober                                                                   \\\n                         5th             6th           7th           8th   \nOct 30, 2012             NaN             NaN           NaN           NaN   \nOct 31, 2012    PHI (1-0) T1    BOS (0-1) T6  DET (0-1) T6  TOR (0-1) T6   \nNovember            November        November      November      November   \nNaN                      5th             6th           7th           8th   \nNov 1, 2012     PHI (1-0) T1    BOS (0-1) T6  DET (0-1) T6  TOR (0-1) T6   \n...                      ...             ...           ...           ...   \nApr 13, 2013     ATL (44-36)     CHI (43-36)   BOS (41-39)   MIL (37-43)   \nApr 14, 2013     ATL (44-36)     CHI (43-37)   BOS (41-39)   MIL (37-43)   \nApr 15, 2013     ATL (44-36)     CHI (44-37)   BOS (41-39)   MIL (37-44)   \nApr 16, 2013  ATL (44-37) T5  CHI (44-37) T5   BOS (41-39)   MIL (37-44)   \nApr 17, 2013     CHI (45-37)     ATL (44-38)   BOS (41-40)   MIL (38-44)   \n\nOctober                                                        \\\n                         9th            10th             11th   \nOct 30, 2012             NaN             NaN              NaN   \nOct 31, 2012    WAS (0-1) T6             NaN              NaN   \nNovember            November        November         November   \nNaN                      9th            10th             11th   \nNov 1, 2012     WAS (0-1) T6             NaN              NaN   \n...                      ...             ...              ...   \nApr 13, 2013     PHI (32-47)     TOR (31-48)      WAS (29-51)   \nApr 14, 2013     PHI (33-47)     TOR (32-48)      WAS (29-51)   \nApr 15, 2013     PHI (33-48)     TOR (32-48)  DET (29-52) T11   \nApr 16, 2013  PHI (33-48) T9  TOR (33-48) T9  DET (29-52) T11   \nApr 17, 2013  PHI (34-48) T9  TOR (34-48) T9  DET (29-53) T11   \n\nOctober                                                                       \n                         12th         13th             14th             15th  \nOct 30, 2012              NaN          NaN              NaN              NaN  \nOct 31, 2012              NaN          NaN              NaN              NaN  \nNovember             November     November         November         November  \nNaN                      12th         13th             14th             15th  \nNov 1, 2012               NaN          NaN              NaN              NaN  \n...                       ...          ...              ...              ...  \nApr 13, 2013      DET (28-52)  CLE (24-55)      ORL (20-60)      CHA (19-61)  \nApr 14, 2013      DET (28-52)  CLE (24-56)      ORL (20-60)      CHA (19-61)  \nApr 15, 2013  WAS (29-52) T11  CLE (24-57)  CHA (20-61) T14  ORL (20-61) T14  \nApr 16, 2013  WAS (29-52) T11  CLE (24-57)  CHA (20-61) T14  ORL (20-61) T14  \nApr 17, 2013  WAS (29-53) T11  CLE (24-58)      CHA (21-61)      ORL (20-62)  \n\n[182 rows x 15 columns]",
      "text/html": "<div>\n<style scoped>\n    .dataframe tbody tr th:only-of-type {\n        vertical-align: middle;\n    }\n\n    .dataframe tbody tr th {\n        vertical-align: top;\n    }\n\n    .dataframe thead tr th {\n        text-align: left;\n    }\n</style>\n<table border=\"1\" class=\"dataframe\">\n  <thead>\n    <tr>\n      <th>October</th>\n      <th colspan=\"15\" halign=\"left\">October</th>\n    </tr>\n    <tr>\n      <th></th>\n      <th>1st</th>\n      <th>2nd</th>\n      <th>3rd</th>\n      <th>4th</th>\n      <th>5th</th>\n      <th>6th</th>\n      <th>7th</th>\n      <th>8th</th>\n      <th>9th</th>\n      <th>10th</th>\n      <th>11th</th>\n      <th>12th</th>\n      <th>13th</th>\n      <th>14th</th>\n      <th>15th</th>\n    </tr>\n  </thead>\n  <tbody>\n    <tr>\n      <th>Oct 30, 2012</th>\n      <td>CLE (1-0) T1</td>\n      <td>MIA (1-0) T1</td>\n      <td>BOS (0-1) T3</td>\n      <td>WAS (0-1) T3</td>\n      <td>NaN</td>\n      <td>NaN</td>\n      <td>NaN</td>\n      <td>NaN</td>\n      <td>NaN</td>\n      <td>NaN</td>\n      <td>NaN</td>\n      <td>NaN</td>\n      <td>NaN</td>\n      <td>NaN</td>\n      <td>NaN</td>\n    </tr>\n    <tr>\n      <th>Oct 31, 2012</th>\n      <td>CHI (1-0) T1</td>\n      <td>CLE (1-0) T1</td>\n      <td>IND (1-0) T1</td>\n      <td>MIA (1-0) T1</td>\n      <td>PHI (1-0) T1</td>\n      <td>BOS (0-1) T6</td>\n      <td>DET (0-1) T6</td>\n      <td>TOR (0-1) T6</td>\n      <td>WAS (0-1) T6</td>\n      <td>NaN</td>\n      <td>NaN</td>\n      <td>NaN</td>\n      <td>NaN</td>\n      <td>NaN</td>\n      <td>NaN</td>\n    </tr>\n    <tr>\n      <th>November</th>\n      <td>November</td>\n      <td>November</td>\n      <td>November</td>\n      <td>November</td>\n      <td>November</td>\n      <td>November</td>\n      <td>November</td>\n      <td>November</td>\n      <td>November</td>\n      <td>November</td>\n      <td>November</td>\n      <td>November</td>\n      <td>November</td>\n      <td>November</td>\n      <td>November</td>\n    </tr>\n    <tr>\n      <th>NaN</th>\n      <td>1st</td>\n      <td>2nd</td>\n      <td>3rd</td>\n      <td>4th</td>\n      <td>5th</td>\n      <td>6th</td>\n      <td>7th</td>\n      <td>8th</td>\n      <td>9th</td>\n      <td>10th</td>\n      <td>11th</td>\n      <td>12th</td>\n      <td>13th</td>\n      <td>14th</td>\n      <td>15th</td>\n    </tr>\n    <tr>\n      <th>Nov 1, 2012</th>\n      <td>CHI (1-0) T1</td>\n      <td>CLE (1-0) T1</td>\n      <td>IND (1-0) T1</td>\n      <td>MIA (1-0) T1</td>\n      <td>PHI (1-0) T1</td>\n      <td>BOS (0-1) T6</td>\n      <td>DET (0-1) T6</td>\n      <td>TOR (0-1) T6</td>\n      <td>WAS (0-1) T6</td>\n      <td>NaN</td>\n      <td>NaN</td>\n      <td>NaN</td>\n      <td>NaN</td>\n      <td>NaN</td>\n      <td>NaN</td>\n    </tr>\n    <tr>\n      <th>...</th>\n      <td>...</td>\n      <td>...</td>\n      <td>...</td>\n      <td>...</td>\n      <td>...</td>\n      <td>...</td>\n      <td>...</td>\n      <td>...</td>\n      <td>...</td>\n      <td>...</td>\n      <td>...</td>\n      <td>...</td>\n      <td>...</td>\n      <td>...</td>\n      <td>...</td>\n    </tr>\n    <tr>\n      <th>Apr 13, 2013</th>\n      <td>MIA (63-16)</td>\n      <td>NYK (52-27)</td>\n      <td>IND (49-30)</td>\n      <td>BRK (47-32)</td>\n      <td>ATL (44-36)</td>\n      <td>CHI (43-36)</td>\n      <td>BOS (41-39)</td>\n      <td>MIL (37-43)</td>\n      <td>PHI (32-47)</td>\n      <td>TOR (31-48)</td>\n      <td>WAS (29-51)</td>\n      <td>DET (28-52)</td>\n      <td>CLE (24-55)</td>\n      <td>ORL (20-60)</td>\n      <td>CHA (19-61)</td>\n    </tr>\n    <tr>\n      <th>Apr 14, 2013</th>\n      <td>MIA (64-16)</td>\n      <td>NYK (53-27)</td>\n      <td>IND (49-31)</td>\n      <td>BRK (47-33)</td>\n      <td>ATL (44-36)</td>\n      <td>CHI (43-37)</td>\n      <td>BOS (41-39)</td>\n      <td>MIL (37-43)</td>\n      <td>PHI (33-47)</td>\n      <td>TOR (32-48)</td>\n      <td>WAS (29-51)</td>\n      <td>DET (28-52)</td>\n      <td>CLE (24-56)</td>\n      <td>ORL (20-60)</td>\n      <td>CHA (19-61)</td>\n    </tr>\n    <tr>\n      <th>Apr 15, 2013</th>\n      <td>MIA (65-16)</td>\n      <td>NYK (53-28)</td>\n      <td>IND (49-31)</td>\n      <td>BRK (48-33)</td>\n      <td>ATL (44-36)</td>\n      <td>CHI (44-37)</td>\n      <td>BOS (41-39)</td>\n      <td>MIL (37-44)</td>\n      <td>PHI (33-48)</td>\n      <td>TOR (32-48)</td>\n      <td>DET (29-52) T11</td>\n      <td>WAS (29-52) T11</td>\n      <td>CLE (24-57)</td>\n      <td>CHA (20-61) T14</td>\n      <td>ORL (20-61) T14</td>\n    </tr>\n    <tr>\n      <th>Apr 16, 2013</th>\n      <td>MIA (65-16)</td>\n      <td>NYK (53-28)</td>\n      <td>IND (49-31)</td>\n      <td>BRK (48-33)</td>\n      <td>ATL (44-37) T5</td>\n      <td>CHI (44-37) T5</td>\n      <td>BOS (41-39)</td>\n      <td>MIL (37-44)</td>\n      <td>PHI (33-48) T9</td>\n      <td>TOR (33-48) T9</td>\n      <td>DET (29-52) T11</td>\n      <td>WAS (29-52) T11</td>\n      <td>CLE (24-57)</td>\n      <td>CHA (20-61) T14</td>\n      <td>ORL (20-61) T14</td>\n    </tr>\n    <tr>\n      <th>Apr 17, 2013</th>\n      <td>MIA (66-16)</td>\n      <td>NYK (54-28)</td>\n      <td>IND (49-32)</td>\n      <td>BRK (49-33)</td>\n      <td>CHI (45-37)</td>\n      <td>ATL (44-38)</td>\n      <td>BOS (41-40)</td>\n      <td>MIL (38-44)</td>\n      <td>PHI (34-48) T9</td>\n      <td>TOR (34-48) T9</td>\n      <td>DET (29-53) T11</td>\n      <td>WAS (29-53) T11</td>\n      <td>CLE (24-58)</td>\n      <td>CHA (21-61)</td>\n      <td>ORL (20-62)</td>\n    </tr>\n  </tbody>\n</table>\n<p>182 rows × 15 columns</p>\n</div>"
     },
     "metadata": {},
     "execution_count": 22
    }
   ],
   "source": [
    "dfs[0]"
   ]
  },
  {
   "cell_type": "code",
   "execution_count": 23,
   "metadata": {},
   "outputs": [
    {
     "output_type": "execute_result",
     "data": {
      "text/plain": "Index([&#39;Oct 30, 2012&#39;, &#39;Oct 31, 2012&#39;,     &#39;November&#39;,            nan,\n        &#39;Nov 1, 2012&#39;,  &#39;Nov 2, 2012&#39;,  &#39;Nov 3, 2012&#39;,  &#39;Nov 4, 2012&#39;,\n        &#39;Nov 5, 2012&#39;,  &#39;Nov 6, 2012&#39;,\n       ...\n        &#39;Apr 8, 2013&#39;,  &#39;Apr 9, 2013&#39;, &#39;Apr 10, 2013&#39;, &#39;Apr 11, 2013&#39;,\n       &#39;Apr 12, 2013&#39;, &#39;Apr 13, 2013&#39;, &#39;Apr 14, 2013&#39;, &#39;Apr 15, 2013&#39;,\n       &#39;Apr 16, 2013&#39;, &#39;Apr 17, 2013&#39;],\n      dtype=&#39;object&#39;, length=182)"
     },
     "metadata": {},
     "execution_count": 23
    }
   ],
   "source": [
    "dfs[0].index"
   ]
  },
  {
   "cell_type": "code",
   "execution_count": 24,
   "metadata": {},
   "outputs": [
    {
     "output_type": "execute_result",
     "data": {
      "text/plain": "MultiIndex([(&#39;October&#39;,  &#39;1st&#39;),\n            (&#39;October&#39;,  &#39;2nd&#39;),\n            (&#39;October&#39;,  &#39;3rd&#39;),\n            (&#39;October&#39;,  &#39;4th&#39;),\n            (&#39;October&#39;,  &#39;5th&#39;),\n            (&#39;October&#39;,  &#39;6th&#39;),\n            (&#39;October&#39;,  &#39;7th&#39;),\n            (&#39;October&#39;,  &#39;8th&#39;),\n            (&#39;October&#39;,  &#39;9th&#39;),\n            (&#39;October&#39;, &#39;10th&#39;),\n            (&#39;October&#39;, &#39;11th&#39;),\n            (&#39;October&#39;, &#39;12th&#39;),\n            (&#39;October&#39;, &#39;13th&#39;),\n            (&#39;October&#39;, &#39;14th&#39;),\n            (&#39;October&#39;, &#39;15th&#39;)],\n           names=[&#39;October&#39;, None])"
     },
     "metadata": {},
     "execution_count": 24
    }
   ],
   "source": [
    "dfs[0].columns"
   ]
  },
  {
   "cell_type": "code",
   "execution_count": 25,
   "metadata": {},
   "outputs": [],
   "source": [
    "dfs[0].columns = dfs[0].columns.droplevel(0)"
   ]
  },
  {
   "cell_type": "code",
   "execution_count": 26,
   "metadata": {},
   "outputs": [
    {
     "output_type": "execute_result",
     "data": {
      "text/plain": "                       1st           2nd           3rd           4th  \\\nOct 30, 2012  CLE (1-0) T1  MIA (1-0) T1  BOS (0-1) T3  WAS (0-1) T3   \nOct 31, 2012  CHI (1-0) T1  CLE (1-0) T1  IND (1-0) T1  MIA (1-0) T1   \nNovember          November      November      November      November   \nNaN                    1st           2nd           3rd           4th   \nNov 1, 2012   CHI (1-0) T1  CLE (1-0) T1  IND (1-0) T1  MIA (1-0) T1   \n...                    ...           ...           ...           ...   \nApr 13, 2013   MIA (63-16)   NYK (52-27)   IND (49-30)   BRK (47-32)   \nApr 14, 2013   MIA (64-16)   NYK (53-27)   IND (49-31)   BRK (47-33)   \nApr 15, 2013   MIA (65-16)   NYK (53-28)   IND (49-31)   BRK (48-33)   \nApr 16, 2013   MIA (65-16)   NYK (53-28)   IND (49-31)   BRK (48-33)   \nApr 17, 2013   MIA (66-16)   NYK (54-28)   IND (49-32)   BRK (49-33)   \n\n                         5th             6th           7th           8th  \\\nOct 30, 2012             NaN             NaN           NaN           NaN   \nOct 31, 2012    PHI (1-0) T1    BOS (0-1) T6  DET (0-1) T6  TOR (0-1) T6   \nNovember            November        November      November      November   \nNaN                      5th             6th           7th           8th   \nNov 1, 2012     PHI (1-0) T1    BOS (0-1) T6  DET (0-1) T6  TOR (0-1) T6   \n...                      ...             ...           ...           ...   \nApr 13, 2013     ATL (44-36)     CHI (43-36)   BOS (41-39)   MIL (37-43)   \nApr 14, 2013     ATL (44-36)     CHI (43-37)   BOS (41-39)   MIL (37-43)   \nApr 15, 2013     ATL (44-36)     CHI (44-37)   BOS (41-39)   MIL (37-44)   \nApr 16, 2013  ATL (44-37) T5  CHI (44-37) T5   BOS (41-39)   MIL (37-44)   \nApr 17, 2013     CHI (45-37)     ATL (44-38)   BOS (41-40)   MIL (38-44)   \n\n                         9th            10th             11th  \\\nOct 30, 2012             NaN             NaN              NaN   \nOct 31, 2012    WAS (0-1) T6             NaN              NaN   \nNovember            November        November         November   \nNaN                      9th            10th             11th   \nNov 1, 2012     WAS (0-1) T6             NaN              NaN   \n...                      ...             ...              ...   \nApr 13, 2013     PHI (32-47)     TOR (31-48)      WAS (29-51)   \nApr 14, 2013     PHI (33-47)     TOR (32-48)      WAS (29-51)   \nApr 15, 2013     PHI (33-48)     TOR (32-48)  DET (29-52) T11   \nApr 16, 2013  PHI (33-48) T9  TOR (33-48) T9  DET (29-52) T11   \nApr 17, 2013  PHI (34-48) T9  TOR (34-48) T9  DET (29-53) T11   \n\n                         12th         13th             14th             15th  \nOct 30, 2012              NaN          NaN              NaN              NaN  \nOct 31, 2012              NaN          NaN              NaN              NaN  \nNovember             November     November         November         November  \nNaN                      12th         13th             14th             15th  \nNov 1, 2012               NaN          NaN              NaN              NaN  \n...                       ...          ...              ...              ...  \nApr 13, 2013      DET (28-52)  CLE (24-55)      ORL (20-60)      CHA (19-61)  \nApr 14, 2013      DET (28-52)  CLE (24-56)      ORL (20-60)      CHA (19-61)  \nApr 15, 2013  WAS (29-52) T11  CLE (24-57)  CHA (20-61) T14  ORL (20-61) T14  \nApr 16, 2013  WAS (29-52) T11  CLE (24-57)  CHA (20-61) T14  ORL (20-61) T14  \nApr 17, 2013  WAS (29-53) T11  CLE (24-58)      CHA (21-61)      ORL (20-62)  \n\n[182 rows x 15 columns]",
      "text/html": "<div>\n<style scoped>\n    .dataframe tbody tr th:only-of-type {\n        vertical-align: middle;\n    }\n\n    .dataframe tbody tr th {\n        vertical-align: top;\n    }\n\n    .dataframe thead th {\n        text-align: right;\n    }\n</style>\n<table border=\"1\" class=\"dataframe\">\n  <thead>\n    <tr style=\"text-align: right;\">\n      <th></th>\n      <th>1st</th>\n      <th>2nd</th>\n      <th>3rd</th>\n      <th>4th</th>\n      <th>5th</th>\n      <th>6th</th>\n      <th>7th</th>\n      <th>8th</th>\n      <th>9th</th>\n      <th>10th</th>\n      <th>11th</th>\n      <th>12th</th>\n      <th>13th</th>\n      <th>14th</th>\n      <th>15th</th>\n    </tr>\n  </thead>\n  <tbody>\n    <tr>\n      <th>Oct 30, 2012</th>\n      <td>CLE (1-0) T1</td>\n      <td>MIA (1-0) T1</td>\n      <td>BOS (0-1) T3</td>\n      <td>WAS (0-1) T3</td>\n      <td>NaN</td>\n      <td>NaN</td>\n      <td>NaN</td>\n      <td>NaN</td>\n      <td>NaN</td>\n      <td>NaN</td>\n      <td>NaN</td>\n      <td>NaN</td>\n      <td>NaN</td>\n      <td>NaN</td>\n      <td>NaN</td>\n    </tr>\n    <tr>\n      <th>Oct 31, 2012</th>\n      <td>CHI (1-0) T1</td>\n      <td>CLE (1-0) T1</td>\n      <td>IND (1-0) T1</td>\n      <td>MIA (1-0) T1</td>\n      <td>PHI (1-0) T1</td>\n      <td>BOS (0-1) T6</td>\n      <td>DET (0-1) T6</td>\n      <td>TOR (0-1) T6</td>\n      <td>WAS (0-1) T6</td>\n      <td>NaN</td>\n      <td>NaN</td>\n      <td>NaN</td>\n      <td>NaN</td>\n      <td>NaN</td>\n      <td>NaN</td>\n    </tr>\n    <tr>\n      <th>November</th>\n      <td>November</td>\n      <td>November</td>\n      <td>November</td>\n      <td>November</td>\n      <td>November</td>\n      <td>November</td>\n      <td>November</td>\n      <td>November</td>\n      <td>November</td>\n      <td>November</td>\n      <td>November</td>\n      <td>November</td>\n      <td>November</td>\n      <td>November</td>\n      <td>November</td>\n    </tr>\n    <tr>\n      <th>NaN</th>\n      <td>1st</td>\n      <td>2nd</td>\n      <td>3rd</td>\n      <td>4th</td>\n      <td>5th</td>\n      <td>6th</td>\n      <td>7th</td>\n      <td>8th</td>\n      <td>9th</td>\n      <td>10th</td>\n      <td>11th</td>\n      <td>12th</td>\n      <td>13th</td>\n      <td>14th</td>\n      <td>15th</td>\n    </tr>\n    <tr>\n      <th>Nov 1, 2012</th>\n      <td>CHI (1-0) T1</td>\n      <td>CLE (1-0) T1</td>\n      <td>IND (1-0) T1</td>\n      <td>MIA (1-0) T1</td>\n      <td>PHI (1-0) T1</td>\n      <td>BOS (0-1) T6</td>\n      <td>DET (0-1) T6</td>\n      <td>TOR (0-1) T6</td>\n      <td>WAS (0-1) T6</td>\n      <td>NaN</td>\n      <td>NaN</td>\n      <td>NaN</td>\n      <td>NaN</td>\n      <td>NaN</td>\n      <td>NaN</td>\n    </tr>\n    <tr>\n      <th>...</th>\n      <td>...</td>\n      <td>...</td>\n      <td>...</td>\n      <td>...</td>\n      <td>...</td>\n      <td>...</td>\n      <td>...</td>\n      <td>...</td>\n      <td>...</td>\n      <td>...</td>\n      <td>...</td>\n      <td>...</td>\n      <td>...</td>\n      <td>...</td>\n      <td>...</td>\n    </tr>\n    <tr>\n      <th>Apr 13, 2013</th>\n      <td>MIA (63-16)</td>\n      <td>NYK (52-27)</td>\n      <td>IND (49-30)</td>\n      <td>BRK (47-32)</td>\n      <td>ATL (44-36)</td>\n      <td>CHI (43-36)</td>\n      <td>BOS (41-39)</td>\n      <td>MIL (37-43)</td>\n      <td>PHI (32-47)</td>\n      <td>TOR (31-48)</td>\n      <td>WAS (29-51)</td>\n      <td>DET (28-52)</td>\n      <td>CLE (24-55)</td>\n      <td>ORL (20-60)</td>\n      <td>CHA (19-61)</td>\n    </tr>\n    <tr>\n      <th>Apr 14, 2013</th>\n      <td>MIA (64-16)</td>\n      <td>NYK (53-27)</td>\n      <td>IND (49-31)</td>\n      <td>BRK (47-33)</td>\n      <td>ATL (44-36)</td>\n      <td>CHI (43-37)</td>\n      <td>BOS (41-39)</td>\n      <td>MIL (37-43)</td>\n      <td>PHI (33-47)</td>\n      <td>TOR (32-48)</td>\n      <td>WAS (29-51)</td>\n      <td>DET (28-52)</td>\n      <td>CLE (24-56)</td>\n      <td>ORL (20-60)</td>\n      <td>CHA (19-61)</td>\n    </tr>\n    <tr>\n      <th>Apr 15, 2013</th>\n      <td>MIA (65-16)</td>\n      <td>NYK (53-28)</td>\n      <td>IND (49-31)</td>\n      <td>BRK (48-33)</td>\n      <td>ATL (44-36)</td>\n      <td>CHI (44-37)</td>\n      <td>BOS (41-39)</td>\n      <td>MIL (37-44)</td>\n      <td>PHI (33-48)</td>\n      <td>TOR (32-48)</td>\n      <td>DET (29-52) T11</td>\n      <td>WAS (29-52) T11</td>\n      <td>CLE (24-57)</td>\n      <td>CHA (20-61) T14</td>\n      <td>ORL (20-61) T14</td>\n    </tr>\n    <tr>\n      <th>Apr 16, 2013</th>\n      <td>MIA (65-16)</td>\n      <td>NYK (53-28)</td>\n      <td>IND (49-31)</td>\n      <td>BRK (48-33)</td>\n      <td>ATL (44-37) T5</td>\n      <td>CHI (44-37) T5</td>\n      <td>BOS (41-39)</td>\n      <td>MIL (37-44)</td>\n      <td>PHI (33-48) T9</td>\n      <td>TOR (33-48) T9</td>\n      <td>DET (29-52) T11</td>\n      <td>WAS (29-52) T11</td>\n      <td>CLE (24-57)</td>\n      <td>CHA (20-61) T14</td>\n      <td>ORL (20-61) T14</td>\n    </tr>\n    <tr>\n      <th>Apr 17, 2013</th>\n      <td>MIA (66-16)</td>\n      <td>NYK (54-28)</td>\n      <td>IND (49-32)</td>\n      <td>BRK (49-33)</td>\n      <td>CHI (45-37)</td>\n      <td>ATL (44-38)</td>\n      <td>BOS (41-40)</td>\n      <td>MIL (38-44)</td>\n      <td>PHI (34-48) T9</td>\n      <td>TOR (34-48) T9</td>\n      <td>DET (29-53) T11</td>\n      <td>WAS (29-53) T11</td>\n      <td>CLE (24-58)</td>\n      <td>CHA (21-61)</td>\n      <td>ORL (20-62)</td>\n    </tr>\n  </tbody>\n</table>\n<p>182 rows × 15 columns</p>\n</div>"
     },
     "metadata": {},
     "execution_count": 26
    }
   ],
   "source": [
    "dfs[0]"
   ]
  },
  {
   "cell_type": "code",
   "execution_count": 27,
   "metadata": {},
   "outputs": [
    {
     "output_type": "execute_result",
     "data": {
      "text/plain": "1st      1st\n2nd      2nd\n3rd      3rd\n4th      4th\n5th      5th\n6th      6th\n7th      7th\n8th      8th\n9th      9th\n10th    10th\n11th    11th\n12th    12th\n13th    13th\n14th    14th\n15th    15th\nName: nan, dtype: object"
     },
     "metadata": {},
     "execution_count": 27
    }
   ],
   "source": [
    "dfs[0].iloc[3,:]"
   ]
  },
  {
   "cell_type": "code",
   "execution_count": 28,
   "metadata": {},
   "outputs": [
    {
     "output_type": "execute_result",
     "data": {
      "text/plain": "Index([&#39;Oct 30, 2012&#39;, &#39;Oct 31, 2012&#39;,     &#39;November&#39;,            nan,\n        &#39;Nov 1, 2012&#39;,  &#39;Nov 2, 2012&#39;,  &#39;Nov 3, 2012&#39;,  &#39;Nov 4, 2012&#39;,\n        &#39;Nov 5, 2012&#39;,  &#39;Nov 6, 2012&#39;,\n       ...\n        &#39;Apr 8, 2013&#39;,  &#39;Apr 9, 2013&#39;, &#39;Apr 10, 2013&#39;, &#39;Apr 11, 2013&#39;,\n       &#39;Apr 12, 2013&#39;, &#39;Apr 13, 2013&#39;, &#39;Apr 14, 2013&#39;, &#39;Apr 15, 2013&#39;,\n       &#39;Apr 16, 2013&#39;, &#39;Apr 17, 2013&#39;],\n      dtype=&#39;object&#39;, length=182)"
     },
     "metadata": {},
     "execution_count": 28
    }
   ],
   "source": [
    "dfs[0].index"
   ]
  },
  {
   "cell_type": "code",
   "execution_count": 29,
   "metadata": {},
   "outputs": [
    {
     "output_type": "execute_result",
     "data": {
      "text/plain": "                       1st           2nd           3rd           4th  \\\nOct 30, 2012  CLE (1-0) T1  MIA (1-0) T1  BOS (0-1) T3  WAS (0-1) T3   \nOct 31, 2012  CHI (1-0) T1  CLE (1-0) T1  IND (1-0) T1  MIA (1-0) T1   \nNovember          November      November      November      November   \nNov 1, 2012   CHI (1-0) T1  CLE (1-0) T1  IND (1-0) T1  MIA (1-0) T1   \nNov 2, 2012   CHI (2-0) T1  CHA (1-0) T1  MIL (1-0) T1  NYK (1-0) T1   \n...                    ...           ...           ...           ...   \nApr 13, 2013   MIA (63-16)   NYK (52-27)   IND (49-30)   BRK (47-32)   \nApr 14, 2013   MIA (64-16)   NYK (53-27)   IND (49-31)   BRK (47-33)   \nApr 15, 2013   MIA (65-16)   NYK (53-28)   IND (49-31)   BRK (48-33)   \nApr 16, 2013   MIA (65-16)   NYK (53-28)   IND (49-31)   BRK (48-33)   \nApr 17, 2013   MIA (66-16)   NYK (54-28)   IND (49-32)   BRK (49-33)   \n\n                         5th             6th           7th           8th  \\\nOct 30, 2012             NaN             NaN           NaN           NaN   \nOct 31, 2012    PHI (1-0) T1    BOS (0-1) T6  DET (0-1) T6  TOR (0-1) T6   \nNovember            November        November      November      November   \nNov 1, 2012     PHI (1-0) T1    BOS (0-1) T6  DET (0-1) T6  TOR (0-1) T6   \nNov 2, 2012     ORL (1-0) T1    PHI (1-0) T1  CLE (1-1) T7  IND (1-1) T7   \n...                      ...             ...           ...           ...   \nApr 13, 2013     ATL (44-36)     CHI (43-36)   BOS (41-39)   MIL (37-43)   \nApr 14, 2013     ATL (44-36)     CHI (43-37)   BOS (41-39)   MIL (37-43)   \nApr 15, 2013     ATL (44-36)     CHI (44-37)   BOS (41-39)   MIL (37-44)   \nApr 16, 2013  ATL (44-37) T5  CHI (44-37) T5   BOS (41-39)   MIL (37-44)   \nApr 17, 2013     CHI (45-37)     ATL (44-38)   BOS (41-40)   MIL (38-44)   \n\n                         9th            10th             11th  \\\nOct 30, 2012             NaN             NaN              NaN   \nOct 31, 2012    WAS (0-1) T6             NaN              NaN   \nNovember            November        November         November   \nNov 1, 2012     WAS (0-1) T6             NaN              NaN   \nNov 2, 2012     MIA (1-1) T7   ATL (0-1) T10    BOS (0-2) T10   \n...                      ...             ...              ...   \nApr 13, 2013     PHI (32-47)     TOR (31-48)      WAS (29-51)   \nApr 14, 2013     PHI (33-47)     TOR (32-48)      WAS (29-51)   \nApr 15, 2013     PHI (33-48)     TOR (32-48)  DET (29-52) T11   \nApr 16, 2013  PHI (33-48) T9  TOR (33-48) T9  DET (29-52) T11   \nApr 17, 2013  PHI (34-48) T9  TOR (34-48) T9  DET (29-53) T11   \n\n                         12th           13th             14th             15th  \nOct 30, 2012              NaN            NaN              NaN              NaN  \nOct 31, 2012              NaN            NaN              NaN              NaN  \nNovember             November       November         November         November  \nNov 1, 2012               NaN            NaN              NaN              NaN  \nNov 2, 2012     DET (0-2) T10  TOR (0-1) T10    WAS (0-1) T10              NaN  \n...                       ...            ...              ...              ...  \nApr 13, 2013      DET (28-52)    CLE (24-55)      ORL (20-60)      CHA (19-61)  \nApr 14, 2013      DET (28-52)    CLE (24-56)      ORL (20-60)      CHA (19-61)  \nApr 15, 2013  WAS (29-52) T11    CLE (24-57)  CHA (20-61) T14  ORL (20-61) T14  \nApr 16, 2013  WAS (29-52) T11    CLE (24-57)  CHA (20-61) T14  ORL (20-61) T14  \nApr 17, 2013  WAS (29-53) T11    CLE (24-58)      CHA (21-61)      ORL (20-62)  \n\n[176 rows x 15 columns]",
      "text/html": "<div>\n<style scoped>\n    .dataframe tbody tr th:only-of-type {\n        vertical-align: middle;\n    }\n\n    .dataframe tbody tr th {\n        vertical-align: top;\n    }\n\n    .dataframe thead th {\n        text-align: right;\n    }\n</style>\n<table border=\"1\" class=\"dataframe\">\n  <thead>\n    <tr style=\"text-align: right;\">\n      <th></th>\n      <th>1st</th>\n      <th>2nd</th>\n      <th>3rd</th>\n      <th>4th</th>\n      <th>5th</th>\n      <th>6th</th>\n      <th>7th</th>\n      <th>8th</th>\n      <th>9th</th>\n      <th>10th</th>\n      <th>11th</th>\n      <th>12th</th>\n      <th>13th</th>\n      <th>14th</th>\n      <th>15th</th>\n    </tr>\n  </thead>\n  <tbody>\n    <tr>\n      <th>Oct 30, 2012</th>\n      <td>CLE (1-0) T1</td>\n      <td>MIA (1-0) T1</td>\n      <td>BOS (0-1) T3</td>\n      <td>WAS (0-1) T3</td>\n      <td>NaN</td>\n      <td>NaN</td>\n      <td>NaN</td>\n      <td>NaN</td>\n      <td>NaN</td>\n      <td>NaN</td>\n      <td>NaN</td>\n      <td>NaN</td>\n      <td>NaN</td>\n      <td>NaN</td>\n      <td>NaN</td>\n    </tr>\n    <tr>\n      <th>Oct 31, 2012</th>\n      <td>CHI (1-0) T1</td>\n      <td>CLE (1-0) T1</td>\n      <td>IND (1-0) T1</td>\n      <td>MIA (1-0) T1</td>\n      <td>PHI (1-0) T1</td>\n      <td>BOS (0-1) T6</td>\n      <td>DET (0-1) T6</td>\n      <td>TOR (0-1) T6</td>\n      <td>WAS (0-1) T6</td>\n      <td>NaN</td>\n      <td>NaN</td>\n      <td>NaN</td>\n      <td>NaN</td>\n      <td>NaN</td>\n      <td>NaN</td>\n    </tr>\n    <tr>\n      <th>November</th>\n      <td>November</td>\n      <td>November</td>\n      <td>November</td>\n      <td>November</td>\n      <td>November</td>\n      <td>November</td>\n      <td>November</td>\n      <td>November</td>\n      <td>November</td>\n      <td>November</td>\n      <td>November</td>\n      <td>November</td>\n      <td>November</td>\n      <td>November</td>\n      <td>November</td>\n    </tr>\n    <tr>\n      <th>Nov 1, 2012</th>\n      <td>CHI (1-0) T1</td>\n      <td>CLE (1-0) T1</td>\n      <td>IND (1-0) T1</td>\n      <td>MIA (1-0) T1</td>\n      <td>PHI (1-0) T1</td>\n      <td>BOS (0-1) T6</td>\n      <td>DET (0-1) T6</td>\n      <td>TOR (0-1) T6</td>\n      <td>WAS (0-1) T6</td>\n      <td>NaN</td>\n      <td>NaN</td>\n      <td>NaN</td>\n      <td>NaN</td>\n      <td>NaN</td>\n      <td>NaN</td>\n    </tr>\n    <tr>\n      <th>Nov 2, 2012</th>\n      <td>CHI (2-0) T1</td>\n      <td>CHA (1-0) T1</td>\n      <td>MIL (1-0) T1</td>\n      <td>NYK (1-0) T1</td>\n      <td>ORL (1-0) T1</td>\n      <td>PHI (1-0) T1</td>\n      <td>CLE (1-1) T7</td>\n      <td>IND (1-1) T7</td>\n      <td>MIA (1-1) T7</td>\n      <td>ATL (0-1) T10</td>\n      <td>BOS (0-2) T10</td>\n      <td>DET (0-2) T10</td>\n      <td>TOR (0-1) T10</td>\n      <td>WAS (0-1) T10</td>\n      <td>NaN</td>\n    </tr>\n    <tr>\n      <th>...</th>\n      <td>...</td>\n      <td>...</td>\n      <td>...</td>\n      <td>...</td>\n      <td>...</td>\n      <td>...</td>\n      <td>...</td>\n      <td>...</td>\n      <td>...</td>\n      <td>...</td>\n      <td>...</td>\n      <td>...</td>\n      <td>...</td>\n      <td>...</td>\n      <td>...</td>\n    </tr>\n    <tr>\n      <th>Apr 13, 2013</th>\n      <td>MIA (63-16)</td>\n      <td>NYK (52-27)</td>\n      <td>IND (49-30)</td>\n      <td>BRK (47-32)</td>\n      <td>ATL (44-36)</td>\n      <td>CHI (43-36)</td>\n      <td>BOS (41-39)</td>\n      <td>MIL (37-43)</td>\n      <td>PHI (32-47)</td>\n      <td>TOR (31-48)</td>\n      <td>WAS (29-51)</td>\n      <td>DET (28-52)</td>\n      <td>CLE (24-55)</td>\n      <td>ORL (20-60)</td>\n      <td>CHA (19-61)</td>\n    </tr>\n    <tr>\n      <th>Apr 14, 2013</th>\n      <td>MIA (64-16)</td>\n      <td>NYK (53-27)</td>\n      <td>IND (49-31)</td>\n      <td>BRK (47-33)</td>\n      <td>ATL (44-36)</td>\n      <td>CHI (43-37)</td>\n      <td>BOS (41-39)</td>\n      <td>MIL (37-43)</td>\n      <td>PHI (33-47)</td>\n      <td>TOR (32-48)</td>\n      <td>WAS (29-51)</td>\n      <td>DET (28-52)</td>\n      <td>CLE (24-56)</td>\n      <td>ORL (20-60)</td>\n      <td>CHA (19-61)</td>\n    </tr>\n    <tr>\n      <th>Apr 15, 2013</th>\n      <td>MIA (65-16)</td>\n      <td>NYK (53-28)</td>\n      <td>IND (49-31)</td>\n      <td>BRK (48-33)</td>\n      <td>ATL (44-36)</td>\n      <td>CHI (44-37)</td>\n      <td>BOS (41-39)</td>\n      <td>MIL (37-44)</td>\n      <td>PHI (33-48)</td>\n      <td>TOR (32-48)</td>\n      <td>DET (29-52) T11</td>\n      <td>WAS (29-52) T11</td>\n      <td>CLE (24-57)</td>\n      <td>CHA (20-61) T14</td>\n      <td>ORL (20-61) T14</td>\n    </tr>\n    <tr>\n      <th>Apr 16, 2013</th>\n      <td>MIA (65-16)</td>\n      <td>NYK (53-28)</td>\n      <td>IND (49-31)</td>\n      <td>BRK (48-33)</td>\n      <td>ATL (44-37) T5</td>\n      <td>CHI (44-37) T5</td>\n      <td>BOS (41-39)</td>\n      <td>MIL (37-44)</td>\n      <td>PHI (33-48) T9</td>\n      <td>TOR (33-48) T9</td>\n      <td>DET (29-52) T11</td>\n      <td>WAS (29-52) T11</td>\n      <td>CLE (24-57)</td>\n      <td>CHA (20-61) T14</td>\n      <td>ORL (20-61) T14</td>\n    </tr>\n    <tr>\n      <th>Apr 17, 2013</th>\n      <td>MIA (66-16)</td>\n      <td>NYK (54-28)</td>\n      <td>IND (49-32)</td>\n      <td>BRK (49-33)</td>\n      <td>CHI (45-37)</td>\n      <td>ATL (44-38)</td>\n      <td>BOS (41-40)</td>\n      <td>MIL (38-44)</td>\n      <td>PHI (34-48) T9</td>\n      <td>TOR (34-48) T9</td>\n      <td>DET (29-53) T11</td>\n      <td>WAS (29-53) T11</td>\n      <td>CLE (24-58)</td>\n      <td>CHA (21-61)</td>\n      <td>ORL (20-62)</td>\n    </tr>\n  </tbody>\n</table>\n<p>176 rows × 15 columns</p>\n</div>"
     },
     "metadata": {},
     "execution_count": 29
    }
   ],
   "source": [
    "foo = dfs[0][dfs[0].index.notna()]\n",
    "foo"
   ]
  },
  {
   "cell_type": "code",
   "execution_count": 31,
   "metadata": {},
   "outputs": [],
   "source": [
    "from datetime import datetime\n"
   ]
  },
  {
   "cell_type": "code",
   "execution_count": 32,
   "metadata": {},
   "outputs": [
    {
     "output_type": "execute_result",
     "data": {
      "text/plain": "[&#39;Oct 30, 2012&#39;,\n &#39;Oct 31, 2012&#39;,\n &#39;November&#39;,\n &#39;Nov 1, 2012&#39;,\n &#39;Nov 2, 2012&#39;,\n &#39;Nov 3, 2012&#39;,\n &#39;Nov 4, 2012&#39;,\n &#39;Nov 5, 2012&#39;,\n &#39;Nov 6, 2012&#39;,\n &#39;Nov 7, 2012&#39;,\n &#39;Nov 8, 2012&#39;,\n &#39;Nov 9, 2012&#39;,\n &#39;Nov 10, 2012&#39;,\n &#39;Nov 11, 2012&#39;,\n &#39;Nov 12, 2012&#39;,\n &#39;Nov 13, 2012&#39;,\n &#39;Nov 14, 2012&#39;,\n &#39;Nov 15, 2012&#39;,\n &#39;Nov 16, 2012&#39;,\n &#39;Nov 17, 2012&#39;,\n &#39;Nov 18, 2012&#39;,\n &#39;Nov 19, 2012&#39;,\n &#39;Nov 20, 2012&#39;,\n &#39;Nov 21, 2012&#39;,\n &#39;Nov 22, 2012&#39;,\n &#39;Nov 23, 2012&#39;,\n &#39;Nov 24, 2012&#39;,\n &#39;Nov 25, 2012&#39;,\n &#39;Nov 26, 2012&#39;,\n &#39;Nov 27, 2012&#39;,\n &#39;Nov 28, 2012&#39;,\n &#39;Nov 29, 2012&#39;,\n &#39;Nov 30, 2012&#39;,\n &#39;December&#39;,\n &#39;Dec 1, 2012&#39;,\n &#39;Dec 2, 2012&#39;,\n &#39;Dec 3, 2012&#39;,\n &#39;Dec 4, 2012&#39;,\n &#39;Dec 5, 2012&#39;,\n &#39;Dec 6, 2012&#39;,\n &#39;Dec 7, 2012&#39;,\n &#39;Dec 8, 2012&#39;,\n &#39;Dec 9, 2012&#39;,\n &#39;Dec 10, 2012&#39;,\n &#39;Dec 11, 2012&#39;,\n &#39;Dec 12, 2012&#39;,\n &#39;Dec 13, 2012&#39;,\n &#39;Dec 14, 2012&#39;,\n &#39;Dec 15, 2012&#39;,\n &#39;Dec 16, 2012&#39;,\n &#39;Dec 17, 2012&#39;,\n &#39;Dec 18, 2012&#39;,\n &#39;Dec 19, 2012&#39;,\n &#39;Dec 20, 2012&#39;,\n &#39;Dec 21, 2012&#39;,\n &#39;Dec 22, 2012&#39;,\n &#39;Dec 23, 2012&#39;,\n &#39;Dec 24, 2012&#39;,\n &#39;Dec 25, 2012&#39;,\n &#39;Dec 26, 2012&#39;,\n &#39;Dec 27, 2012&#39;,\n &#39;Dec 28, 2012&#39;,\n &#39;Dec 29, 2012&#39;,\n &#39;Dec 30, 2012&#39;,\n &#39;Dec 31, 2012&#39;,\n &#39;January&#39;,\n &#39;Jan 1, 2013&#39;,\n &#39;Jan 2, 2013&#39;,\n &#39;Jan 3, 2013&#39;,\n &#39;Jan 4, 2013&#39;,\n &#39;Jan 5, 2013&#39;,\n &#39;Jan 6, 2013&#39;,\n &#39;Jan 7, 2013&#39;,\n &#39;Jan 8, 2013&#39;,\n &#39;Jan 9, 2013&#39;,\n &#39;Jan 10, 2013&#39;,\n &#39;Jan 11, 2013&#39;,\n &#39;Jan 12, 2013&#39;,\n &#39;Jan 13, 2013&#39;,\n &#39;Jan 14, 2013&#39;,\n &#39;Jan 15, 2013&#39;,\n &#39;Jan 16, 2013&#39;,\n &#39;Jan 17, 2013&#39;,\n &#39;Jan 18, 2013&#39;,\n &#39;Jan 19, 2013&#39;,\n &#39;Jan 20, 2013&#39;,\n &#39;Jan 21, 2013&#39;,\n &#39;Jan 22, 2013&#39;,\n &#39;Jan 23, 2013&#39;,\n &#39;Jan 24, 2013&#39;,\n &#39;Jan 25, 2013&#39;,\n &#39;Jan 26, 2013&#39;,\n &#39;Jan 27, 2013&#39;,\n &#39;Jan 28, 2013&#39;,\n &#39;Jan 29, 2013&#39;,\n &#39;Jan 30, 2013&#39;,\n &#39;Jan 31, 2013&#39;,\n &#39;February&#39;,\n &#39;Feb 1, 2013&#39;,\n &#39;Feb 2, 2013&#39;,\n &#39;Feb 3, 2013&#39;,\n &#39;Feb 4, 2013&#39;,\n &#39;Feb 5, 2013&#39;,\n &#39;Feb 6, 2013&#39;,\n &#39;Feb 7, 2013&#39;,\n &#39;Feb 8, 2013&#39;,\n &#39;Feb 9, 2013&#39;,\n &#39;Feb 10, 2013&#39;,\n &#39;Feb 11, 2013&#39;,\n &#39;Feb 12, 2013&#39;,\n &#39;Feb 13, 2013&#39;,\n &#39;Feb 14, 2013&#39;,\n &#39;Feb 15, 2013&#39;,\n &#39;Feb 16, 2013&#39;,\n &#39;Feb 17, 2013&#39;,\n &#39;Feb 18, 2013&#39;,\n &#39;Feb 19, 2013&#39;,\n &#39;Feb 20, 2013&#39;,\n &#39;Feb 21, 2013&#39;,\n &#39;Feb 22, 2013&#39;,\n &#39;Feb 23, 2013&#39;,\n &#39;Feb 24, 2013&#39;,\n &#39;Feb 25, 2013&#39;,\n &#39;Feb 26, 2013&#39;,\n &#39;Feb 27, 2013&#39;,\n &#39;Feb 28, 2013&#39;,\n &#39;March&#39;,\n &#39;Mar 1, 2013&#39;,\n &#39;Mar 2, 2013&#39;,\n &#39;Mar 3, 2013&#39;,\n &#39;Mar 4, 2013&#39;,\n &#39;Mar 5, 2013&#39;,\n &#39;Mar 6, 2013&#39;,\n &#39;Mar 7, 2013&#39;,\n &#39;Mar 8, 2013&#39;,\n &#39;Mar 9, 2013&#39;,\n &#39;Mar 10, 2013&#39;,\n &#39;Mar 11, 2013&#39;,\n &#39;Mar 12, 2013&#39;,\n &#39;Mar 13, 2013&#39;,\n &#39;Mar 14, 2013&#39;,\n &#39;Mar 15, 2013&#39;,\n &#39;Mar 16, 2013&#39;,\n &#39;Mar 17, 2013&#39;,\n &#39;Mar 18, 2013&#39;,\n &#39;Mar 19, 2013&#39;,\n &#39;Mar 20, 2013&#39;,\n &#39;Mar 21, 2013&#39;,\n &#39;Mar 22, 2013&#39;,\n &#39;Mar 23, 2013&#39;,\n &#39;Mar 24, 2013&#39;,\n &#39;Mar 25, 2013&#39;,\n &#39;Mar 26, 2013&#39;,\n &#39;Mar 27, 2013&#39;,\n &#39;Mar 28, 2013&#39;,\n &#39;Mar 29, 2013&#39;,\n &#39;Mar 30, 2013&#39;,\n &#39;Mar 31, 2013&#39;,\n &#39;April&#39;,\n &#39;Apr 1, 2013&#39;,\n &#39;Apr 2, 2013&#39;,\n &#39;Apr 3, 2013&#39;,\n &#39;Apr 4, 2013&#39;,\n &#39;Apr 5, 2013&#39;,\n &#39;Apr 6, 2013&#39;,\n &#39;Apr 7, 2013&#39;,\n &#39;Apr 8, 2013&#39;,\n &#39;Apr 9, 2013&#39;,\n &#39;Apr 10, 2013&#39;,\n &#39;Apr 11, 2013&#39;,\n &#39;Apr 12, 2013&#39;,\n &#39;Apr 13, 2013&#39;,\n &#39;Apr 14, 2013&#39;,\n &#39;Apr 15, 2013&#39;,\n &#39;Apr 16, 2013&#39;,\n &#39;Apr 17, 2013&#39;]"
     },
     "metadata": {},
     "execution_count": 32
    }
   ],
   "source": [
    "foo.index.tolist()"
   ]
  },
  {
   "cell_type": "code",
   "execution_count": null,
   "metadata": {},
   "outputs": [],
   "source": []
  }
 ],
 "metadata": {
  "kernelspec": {
   "display_name": "Python 3",
   "language": "python",
   "name": "python3"
  },
  "language_info": {
   "codemirror_mode": {
    "name": "ipython",
    "version": 3
   },
   "file_extension": ".py",
   "mimetype": "text/x-python",
   "name": "python",
   "nbconvert_exporter": "python",
   "pygments_lexer": "ipython3",
   "version": "3.7.9-final"
  }
 },
 "nbformat": 4,
 "nbformat_minor": 2
}