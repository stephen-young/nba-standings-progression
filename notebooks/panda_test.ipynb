{
 "nbformat": 4,
 "nbformat_minor": 2,
 "metadata": {
  "language_info": {
   "name": "python",
   "codemirror_mode": {
    "name": "ipython",
    "version": 3
   },
   "version": "3.7.4-final"
  },
  "orig_nbformat": 2,
  "file_extension": ".py",
  "mimetype": "text/x-python",
  "name": "python",
  "npconvert_exporter": "python",
  "pygments_lexer": "ipython3",
  "version": 3,
  "kernelspec": {
   "name": "python3",
   "display_name": "Python 3"
  }
 },
 "cells": [
  {
   "cell_type": "markdown",
   "metadata": {},
   "source": [
    "# pandas_test\n",
    "\n",
    "This notebook is to test using the pandas library for processing the standings by date data."
   ]
  },
  {
   "cell_type": "code",
   "execution_count": 43,
   "metadata": {},
   "outputs": [],
   "source": [
    "#import necessary packages\n",
    "import pandas as pd\n",
    "import numpy as np\n",
    "import matplotlib.pyplot as plt\n",
    "pd.set_option('precision', 3)"
   ]
  },
  {
   "cell_type": "markdown",
   "metadata": {},
   "source": [
    "## Exisiting setup\n",
    "\n",
    "Dates, team, and record (wins and loses) are in a tabular form in a spreadsheet. The first column contains the date in the format `MMM DD, YYYY`. Columns two through sixteen give the team and record with the form \"`[team] ([win]-[loss]) [tie_indicator]`\" with `team` being the three letter abbreviation of the team's city and the `tie_indicator` only appearing if a team or teams are tied for the same rank (1st, 2nd, etc.).\n",
    "\n",
    "Currently, the standings data is processed by reading the spreadsheet with `openpyxl`, looping through the rows and using the `parse` library to extract the data from the formatted string. The data is then stored in a two-dimensional `list` of `dict`. \n",
    "\n",
    "Once the data is extracted, the win fraction of a given team at a given date is evaluated by looping through the 2-D `list`, evaluating the win fraction at each date for each team and puting the resulting data into a `pandas` `DataFrame`. Since the data set is not that large (15 columns, approx. 170 rows), converting the operations from looping and list comprehensions to operating on a DataFrame, I'm guessing, will not lead to any, if at all, efficiency gains. With the desired end result being a `DataFrame` and the spreadsheet data easily importable with the `read_excel` function, learning more of the `pandas` library to transform the spreadsheet data would make the code could stream line the code."
   ]
  },
  {
   "cell_type": "code",
   "execution_count": 44,
   "metadata": {},
   "outputs": [
    {
     "output_type": "execute_result",
     "data": {
      "text/plain": "                     1st           2nd           3rd             4th  \\\n2016-10-25  POR (1-0) T1  SAS (1-0) T1  GSW (0-1) T3    UTA (0-1) T3   \n2016-10-26  DEN (1-0) T1  LAL (1-0) T1  MEM (1-0) T1    OKC (1-0) T1   \n2016-10-27     SAS (2-0)  DEN (1-0) T2  LAC (1-0) T2    LAL (1-0) T2   \n2016-10-28  OKC (2-0) T1  SAS (2-0) T1  DEN (1-0) T3    LAC (1-0) T3   \n2016-10-29     SAS (3-0)     OKC (2-0)     LAC (1-0)    POR (2-1) T4   \n...                  ...           ...           ...             ...   \n2017-04-08   GSW (66-14)   SAS (61-19)   HOU (53-26)  LAC (49-31) T4   \n2017-04-09   GSW (66-14)   SAS (61-19)   HOU (54-26)  LAC (49-31) T4   \n2017-04-10   GSW (66-15)   SAS (61-20)   HOU (54-27)  LAC (50-31) T4   \n2017-04-11   GSW (66-15)   SAS (61-20)   HOU (54-27)  LAC (50-31) T4   \n2017-04-12   GSW (67-15)   SAS (61-21)   HOU (55-27)  LAC (51-31) T4   \n\n                       5th           6th           7th           8th  \\\n2016-10-25             NaN           NaN           NaN           NaN   \n2016-10-26    POR (1-0) T1  SAC (1-0) T1  SAS (1-0) T1  DAL (0-1) T8   \n2016-10-27    MEM (1-0) T2  OKC (1-0) T2  POR (1-1) T7  SAC (1-1) T7   \n2016-10-28    MEM (1-0) T3  GSW (1-1) T6  HOU (1-1) T6  LAL (1-1) T6   \n2016-10-29    SAC (2-1) T4  DEN (1-1) T6  GSW (1-1) T6  HOU (1-1) T6   \n...                    ...           ...           ...           ...   \n2017-04-08  UTA (49-31) T4   OKC (45-34)   MEM (43-37)   POR (40-40)   \n2017-04-09  UTA (49-31) T4   OKC (46-34)   MEM (43-38)   POR (40-40)   \n2017-04-10  UTA (50-31) T4   OKC (46-34)   MEM (43-38)   POR (41-40)   \n2017-04-11  UTA (50-31) T4   OKC (47-34)   MEM (43-38)   POR (41-40)   \n2017-04-12  UTA (51-31) T4   OKC (47-35)   MEM (43-39)   POR (41-41)   \n\n                     9th          10th             11th             12th  \\\n2016-10-25           NaN           NaN              NaN              NaN   \n2016-10-26  GSW (0-1) T8  HOU (0-1) T8     MIN (0-1) T8     NOP (0-1) T8   \n2016-10-27  DAL (0-1) T9  GSW (0-1) T9     HOU (0-1) T9     MIN (0-1) T9   \n2016-10-28  POR (1-1) T6  SAC (1-1) T6     UTA (1-1) T6        PHO (0-2)   \n2016-10-29  LAL (1-1) T6  MEM (1-1) T6     UTA (1-1) T6    DAL (0-2) T12   \n...                  ...           ...              ...              ...   \n2017-04-08   DEN (38-41)   NOP (33-47)      DAL (32-47)  MIN (31-48) T12   \n2017-04-09   DEN (38-42)   NOP (33-47)      DAL (32-48)  MIN (31-49) T12   \n2017-04-10   DEN (38-42)   NOP (33-47)      DAL (32-48)  MIN (31-49) T12   \n2017-04-11   DEN (39-42)   NOP (33-48)  DAL (32-49) T11  SAC (32-49) T11   \n2017-04-12   DEN (40-42)   NOP (34-48)      DAL (33-49)      SAC (32-50)   \n\n                       13th           14th           15th  \n2016-10-25              NaN            NaN            NaN  \n2016-10-26     PHO (0-1) T8   UTA (0-1) T8            NaN  \n2016-10-27     NOP (0-1) T9   PHO (0-1) T9   UTA (0-1) T9  \n2016-10-28        MIN (0-1)  DAL (0-2) T14  NOP (0-2) T14  \n2016-10-29    MIN (0-2) T12  PHO (0-2) T12      NOP (0-3)  \n...                     ...            ...            ...  \n2017-04-08  SAC (31-48) T12    LAL (24-55)    PHO (23-57)  \n2017-04-09  SAC (31-49) T12    LAL (25-55)    PHO (24-57)  \n2017-04-10  SAC (31-49) T12    LAL (25-55)    PHO (24-57)  \n2017-04-11      MIN (31-50)    LAL (26-55)    PHO (24-58)  \n2017-04-12      MIN (31-51)    LAL (26-56)    PHO (24-58)  \n\n[170 rows x 15 columns]",
      "text/html": "<div>\n<style scoped>\n    .dataframe tbody tr th:only-of-type {\n        vertical-align: middle;\n    }\n\n    .dataframe tbody tr th {\n        vertical-align: top;\n    }\n\n    .dataframe thead th {\n        text-align: right;\n    }\n</style>\n<table border=\"1\" class=\"dataframe\">\n  <thead>\n    <tr style=\"text-align: right;\">\n      <th></th>\n      <th>1st</th>\n      <th>2nd</th>\n      <th>3rd</th>\n      <th>4th</th>\n      <th>5th</th>\n      <th>6th</th>\n      <th>7th</th>\n      <th>8th</th>\n      <th>9th</th>\n      <th>10th</th>\n      <th>11th</th>\n      <th>12th</th>\n      <th>13th</th>\n      <th>14th</th>\n      <th>15th</th>\n    </tr>\n  </thead>\n  <tbody>\n    <tr>\n      <td>2016-10-25</td>\n      <td>POR (1-0) T1</td>\n      <td>SAS (1-0) T1</td>\n      <td>GSW (0-1) T3</td>\n      <td>UTA (0-1) T3</td>\n      <td>NaN</td>\n      <td>NaN</td>\n      <td>NaN</td>\n      <td>NaN</td>\n      <td>NaN</td>\n      <td>NaN</td>\n      <td>NaN</td>\n      <td>NaN</td>\n      <td>NaN</td>\n      <td>NaN</td>\n      <td>NaN</td>\n    </tr>\n    <tr>\n      <td>2016-10-26</td>\n      <td>DEN (1-0) T1</td>\n      <td>LAL (1-0) T1</td>\n      <td>MEM (1-0) T1</td>\n      <td>OKC (1-0) T1</td>\n      <td>POR (1-0) T1</td>\n      <td>SAC (1-0) T1</td>\n      <td>SAS (1-0) T1</td>\n      <td>DAL (0-1) T8</td>\n      <td>GSW (0-1) T8</td>\n      <td>HOU (0-1) T8</td>\n      <td>MIN (0-1) T8</td>\n      <td>NOP (0-1) T8</td>\n      <td>PHO (0-1) T8</td>\n      <td>UTA (0-1) T8</td>\n      <td>NaN</td>\n    </tr>\n    <tr>\n      <td>2016-10-27</td>\n      <td>SAS (2-0)</td>\n      <td>DEN (1-0) T2</td>\n      <td>LAC (1-0) T2</td>\n      <td>LAL (1-0) T2</td>\n      <td>MEM (1-0) T2</td>\n      <td>OKC (1-0) T2</td>\n      <td>POR (1-1) T7</td>\n      <td>SAC (1-1) T7</td>\n      <td>DAL (0-1) T9</td>\n      <td>GSW (0-1) T9</td>\n      <td>HOU (0-1) T9</td>\n      <td>MIN (0-1) T9</td>\n      <td>NOP (0-1) T9</td>\n      <td>PHO (0-1) T9</td>\n      <td>UTA (0-1) T9</td>\n    </tr>\n    <tr>\n      <td>2016-10-28</td>\n      <td>OKC (2-0) T1</td>\n      <td>SAS (2-0) T1</td>\n      <td>DEN (1-0) T3</td>\n      <td>LAC (1-0) T3</td>\n      <td>MEM (1-0) T3</td>\n      <td>GSW (1-1) T6</td>\n      <td>HOU (1-1) T6</td>\n      <td>LAL (1-1) T6</td>\n      <td>POR (1-1) T6</td>\n      <td>SAC (1-1) T6</td>\n      <td>UTA (1-1) T6</td>\n      <td>PHO (0-2)</td>\n      <td>MIN (0-1)</td>\n      <td>DAL (0-2) T14</td>\n      <td>NOP (0-2) T14</td>\n    </tr>\n    <tr>\n      <td>2016-10-29</td>\n      <td>SAS (3-0)</td>\n      <td>OKC (2-0)</td>\n      <td>LAC (1-0)</td>\n      <td>POR (2-1) T4</td>\n      <td>SAC (2-1) T4</td>\n      <td>DEN (1-1) T6</td>\n      <td>GSW (1-1) T6</td>\n      <td>HOU (1-1) T6</td>\n      <td>LAL (1-1) T6</td>\n      <td>MEM (1-1) T6</td>\n      <td>UTA (1-1) T6</td>\n      <td>DAL (0-2) T12</td>\n      <td>MIN (0-2) T12</td>\n      <td>PHO (0-2) T12</td>\n      <td>NOP (0-3)</td>\n    </tr>\n    <tr>\n      <td>...</td>\n      <td>...</td>\n      <td>...</td>\n      <td>...</td>\n      <td>...</td>\n      <td>...</td>\n      <td>...</td>\n      <td>...</td>\n      <td>...</td>\n      <td>...</td>\n      <td>...</td>\n      <td>...</td>\n      <td>...</td>\n      <td>...</td>\n      <td>...</td>\n      <td>...</td>\n    </tr>\n    <tr>\n      <td>2017-04-08</td>\n      <td>GSW (66-14)</td>\n      <td>SAS (61-19)</td>\n      <td>HOU (53-26)</td>\n      <td>LAC (49-31) T4</td>\n      <td>UTA (49-31) T4</td>\n      <td>OKC (45-34)</td>\n      <td>MEM (43-37)</td>\n      <td>POR (40-40)</td>\n      <td>DEN (38-41)</td>\n      <td>NOP (33-47)</td>\n      <td>DAL (32-47)</td>\n      <td>MIN (31-48) T12</td>\n      <td>SAC (31-48) T12</td>\n      <td>LAL (24-55)</td>\n      <td>PHO (23-57)</td>\n    </tr>\n    <tr>\n      <td>2017-04-09</td>\n      <td>GSW (66-14)</td>\n      <td>SAS (61-19)</td>\n      <td>HOU (54-26)</td>\n      <td>LAC (49-31) T4</td>\n      <td>UTA (49-31) T4</td>\n      <td>OKC (46-34)</td>\n      <td>MEM (43-38)</td>\n      <td>POR (40-40)</td>\n      <td>DEN (38-42)</td>\n      <td>NOP (33-47)</td>\n      <td>DAL (32-48)</td>\n      <td>MIN (31-49) T12</td>\n      <td>SAC (31-49) T12</td>\n      <td>LAL (25-55)</td>\n      <td>PHO (24-57)</td>\n    </tr>\n    <tr>\n      <td>2017-04-10</td>\n      <td>GSW (66-15)</td>\n      <td>SAS (61-20)</td>\n      <td>HOU (54-27)</td>\n      <td>LAC (50-31) T4</td>\n      <td>UTA (50-31) T4</td>\n      <td>OKC (46-34)</td>\n      <td>MEM (43-38)</td>\n      <td>POR (41-40)</td>\n      <td>DEN (38-42)</td>\n      <td>NOP (33-47)</td>\n      <td>DAL (32-48)</td>\n      <td>MIN (31-49) T12</td>\n      <td>SAC (31-49) T12</td>\n      <td>LAL (25-55)</td>\n      <td>PHO (24-57)</td>\n    </tr>\n    <tr>\n      <td>2017-04-11</td>\n      <td>GSW (66-15)</td>\n      <td>SAS (61-20)</td>\n      <td>HOU (54-27)</td>\n      <td>LAC (50-31) T4</td>\n      <td>UTA (50-31) T4</td>\n      <td>OKC (47-34)</td>\n      <td>MEM (43-38)</td>\n      <td>POR (41-40)</td>\n      <td>DEN (39-42)</td>\n      <td>NOP (33-48)</td>\n      <td>DAL (32-49) T11</td>\n      <td>SAC (32-49) T11</td>\n      <td>MIN (31-50)</td>\n      <td>LAL (26-55)</td>\n      <td>PHO (24-58)</td>\n    </tr>\n    <tr>\n      <td>2017-04-12</td>\n      <td>GSW (67-15)</td>\n      <td>SAS (61-21)</td>\n      <td>HOU (55-27)</td>\n      <td>LAC (51-31) T4</td>\n      <td>UTA (51-31) T4</td>\n      <td>OKC (47-35)</td>\n      <td>MEM (43-39)</td>\n      <td>POR (41-41)</td>\n      <td>DEN (40-42)</td>\n      <td>NOP (34-48)</td>\n      <td>DAL (33-49)</td>\n      <td>SAC (32-50)</td>\n      <td>MIN (31-51)</td>\n      <td>LAL (26-56)</td>\n      <td>PHO (24-58)</td>\n    </tr>\n  </tbody>\n</table>\n<p>170 rows × 15 columns</p>\n</div>"
     },
     "metadata": {},
     "execution_count": 44
    }
   ],
   "source": [
    "df = pd.read_excel('./../standings_data/2017_west_standings_by_date.xlsx',header=None,index_col=0,parse_dates=True,names=['1st','2nd', '3rd', '4th', '5th','6th', '7th', '8th','9th', '10th', '11th', '12th', '13th', '14th', '15th'])\n",
    "df"
   ]
  },
  {
   "cell_type": "markdown",
   "metadata": {},
   "source": [
    "## Extracting the data\n",
    "\n",
    "A column of the `DataFrame` resulting from reading the spreadsheet with `read_excel` will look something like the following:"
   ]
  },
  {
   "cell_type": "code",
   "execution_count": 45,
   "metadata": {},
   "outputs": [
    {
     "output_type": "stream",
     "name": "stdout",
     "text": "0       CLE (1-0)\n1    BOS (1-0) T1\n2    ATL (1-0) T1\n3    CHO (2-0) T1\ndtype: object\n"
    }
   ],
   "source": [
    "spam = pd.Series(['CLE (1-0)','BOS (1-0) T1', 'ATL (1-0) T1', 'CHO (2-0) T1'])\n",
    "print(spam)"
   ]
  },
  {
   "cell_type": "markdown",
   "metadata": {},
   "source": [
    "`Series` objects let you use regex to extract data out of strings with a defined pattern and will return a `DataFrame`. For the purposes of plotting each teams win fraction with time, the tie indicator not of any interest so the regex pattern that will extract the standings data is the following:"
   ]
  },
  {
   "cell_type": "code",
   "execution_count": 46,
   "metadata": {},
   "outputs": [
    {
     "output_type": "execute_result",
     "data": {
      "text/plain": "'(?P<team>[A-Z]{3})\\\\s\\\\((?P<win>\\\\d+)\\\\-(?P<loss>\\\\d+)\\\\)'"
     },
     "metadata": {},
     "execution_count": 46
    }
   ],
   "source": [
    "standings_pat = r'(?P<team>[A-Z]{3})\\s\\((?P<win>\\d+)\\-(?P<loss>\\d+)\\)'\n",
    "standings_pat"
   ]
  },
  {
   "cell_type": "markdown",
   "metadata": {},
   "source": [
    "Applying the regex pattern to the series to extract the data using `str.extract`. The `expand` keyword determines if the return type is a `DataFrame`, `Series`, or `Index`. If it is `False`, `extract` will return a `Series` or `Index` if there is only one capture group otherwise `extract` returns a `DataFrame`. `expand` defualts to true and since a `DataFrame` return is desired, it is best to leave `expand` as the default."
   ]
  },
  {
   "cell_type": "code",
   "execution_count": 47,
   "metadata": {},
   "outputs": [
    {
     "output_type": "execute_result",
     "data": {
      "text/plain": "  team win loss\n0  CLE   1    0\n1  BOS   1    0\n2  ATL   1    0\n3  CHO   2    0",
      "text/html": "<div>\n<style scoped>\n    .dataframe tbody tr th:only-of-type {\n        vertical-align: middle;\n    }\n\n    .dataframe tbody tr th {\n        vertical-align: top;\n    }\n\n    .dataframe thead th {\n        text-align: right;\n    }\n</style>\n<table border=\"1\" class=\"dataframe\">\n  <thead>\n    <tr style=\"text-align: right;\">\n      <th></th>\n      <th>team</th>\n      <th>win</th>\n      <th>loss</th>\n    </tr>\n  </thead>\n  <tbody>\n    <tr>\n      <td>0</td>\n      <td>CLE</td>\n      <td>1</td>\n      <td>0</td>\n    </tr>\n    <tr>\n      <td>1</td>\n      <td>BOS</td>\n      <td>1</td>\n      <td>0</td>\n    </tr>\n    <tr>\n      <td>2</td>\n      <td>ATL</td>\n      <td>1</td>\n      <td>0</td>\n    </tr>\n    <tr>\n      <td>3</td>\n      <td>CHO</td>\n      <td>2</td>\n      <td>0</td>\n    </tr>\n  </tbody>\n</table>\n</div>"
     },
     "metadata": {},
     "execution_count": 47
    }
   ],
   "source": [
    "eggs = spam.str.extract(standings_pat)\n",
    "eggs"
   ]
  },
  {
   "cell_type": "code",
   "execution_count": 48,
   "metadata": {},
   "outputs": [
    {
     "output_type": "execute_result",
     "data": {
      "text/plain": "pandas.core.frame.DataFrame"
     },
     "metadata": {},
     "execution_count": 48
    }
   ],
   "source": [
    "type(eggs)"
   ]
  },
  {
   "cell_type": "markdown",
   "metadata": {},
   "source": [
    "Parameters will remain string objects and you will need to convert them to numeric data types with the `to_numeric` function"
   ]
  },
  {
   "cell_type": "code",
   "execution_count": 49,
   "metadata": {},
   "outputs": [
    {
     "output_type": "execute_result",
     "data": {
      "text/plain": "0    1\n1    1\n2    1\n3    2\nName: win, dtype: object"
     },
     "metadata": {},
     "execution_count": 49
    }
   ],
   "source": [
    "eggs['win']"
   ]
  },
  {
   "cell_type": "code",
   "execution_count": 50,
   "metadata": {},
   "outputs": [
    {
     "output_type": "execute_result",
     "data": {
      "text/plain": "0    1\n1    1\n2    1\n3    2\nName: win, dtype: int64"
     },
     "metadata": {},
     "execution_count": 50
    }
   ],
   "source": [
    "eggs['win'] = pd.to_numeric(eggs['win'])\n",
    "eggs['loss'] = pd.to_numeric(eggs['loss'])\n",
    "eggs['win']"
   ]
  },
  {
   "cell_type": "markdown",
   "metadata": {},
   "source": [
    "With the win/loss data converted to numeric data, the win fraction can be easily evaluated"
   ]
  },
  {
   "cell_type": "code",
   "execution_count": 51,
   "metadata": {},
   "outputs": [
    {
     "output_type": "execute_result",
     "data": {
      "text/plain": "  team  win  loss  GP  PCT\n0  CLE    1     0   1  1.0\n1  BOS    1     0   1  1.0\n2  ATL    1     0   1  1.0\n3  CHO    2     0   2  1.0",
      "text/html": "<div>\n<style scoped>\n    .dataframe tbody tr th:only-of-type {\n        vertical-align: middle;\n    }\n\n    .dataframe tbody tr th {\n        vertical-align: top;\n    }\n\n    .dataframe thead th {\n        text-align: right;\n    }\n</style>\n<table border=\"1\" class=\"dataframe\">\n  <thead>\n    <tr style=\"text-align: right;\">\n      <th></th>\n      <th>team</th>\n      <th>win</th>\n      <th>loss</th>\n      <th>GP</th>\n      <th>PCT</th>\n    </tr>\n  </thead>\n  <tbody>\n    <tr>\n      <td>0</td>\n      <td>CLE</td>\n      <td>1</td>\n      <td>0</td>\n      <td>1</td>\n      <td>1.0</td>\n    </tr>\n    <tr>\n      <td>1</td>\n      <td>BOS</td>\n      <td>1</td>\n      <td>0</td>\n      <td>1</td>\n      <td>1.0</td>\n    </tr>\n    <tr>\n      <td>2</td>\n      <td>ATL</td>\n      <td>1</td>\n      <td>0</td>\n      <td>1</td>\n      <td>1.0</td>\n    </tr>\n    <tr>\n      <td>3</td>\n      <td>CHO</td>\n      <td>2</td>\n      <td>0</td>\n      <td>2</td>\n      <td>1.0</td>\n    </tr>\n  </tbody>\n</table>\n</div>"
     },
     "metadata": {},
     "execution_count": 51
    }
   ],
   "source": [
    "eggs['GP'] = eggs['win'] + eggs['loss']\n",
    "eggs['PCT'] = eggs['win'] / eggs['GP']\n",
    "eggs"
   ]
  },
  {
   "cell_type": "markdown",
   "metadata": {},
   "source": [
    "Since `str.extract` returns a `DataFrame`, we will need to setup a `DataFrame` with `MultiIndex` columns. To setup the `MultiIndex`, make a list of arrays with the column titles and use the `MultiIndex.from_product` function."
   ]
  },
  {
   "cell_type": "code",
   "execution_count": 52,
   "metadata": {},
   "outputs": [],
   "source": [
    "arrays = [np.array(df.columns), np.array(['team','win','loss','GP','PCT'])]"
   ]
  },
  {
   "cell_type": "code",
   "execution_count": 53,
   "metadata": {},
   "outputs": [],
   "source": [
    "multi = pd.MultiIndex.from_product(arrays)"
   ]
  },
  {
   "cell_type": "code",
   "execution_count": 54,
   "metadata": {},
   "outputs": [
    {
     "output_type": "execute_result",
     "data": {
      "text/plain": "            1st                      2nd                      ... 14th       \\\n           team  win loss   GP  PCT team  win loss   GP  PCT  ... team  win   \n2016-10-25  NaN  NaN  NaN  NaN  NaN  NaN  NaN  NaN  NaN  NaN  ...  NaN  NaN   \n2016-10-26  NaN  NaN  NaN  NaN  NaN  NaN  NaN  NaN  NaN  NaN  ...  NaN  NaN   \n2016-10-27  NaN  NaN  NaN  NaN  NaN  NaN  NaN  NaN  NaN  NaN  ...  NaN  NaN   \n2016-10-28  NaN  NaN  NaN  NaN  NaN  NaN  NaN  NaN  NaN  NaN  ...  NaN  NaN   \n2016-10-29  NaN  NaN  NaN  NaN  NaN  NaN  NaN  NaN  NaN  NaN  ...  NaN  NaN   \n...         ...  ...  ...  ...  ...  ...  ...  ...  ...  ...  ...  ...  ...   \n2017-04-08  NaN  NaN  NaN  NaN  NaN  NaN  NaN  NaN  NaN  NaN  ...  NaN  NaN   \n2017-04-09  NaN  NaN  NaN  NaN  NaN  NaN  NaN  NaN  NaN  NaN  ...  NaN  NaN   \n2017-04-10  NaN  NaN  NaN  NaN  NaN  NaN  NaN  NaN  NaN  NaN  ...  NaN  NaN   \n2017-04-11  NaN  NaN  NaN  NaN  NaN  NaN  NaN  NaN  NaN  NaN  ...  NaN  NaN   \n2017-04-12  NaN  NaN  NaN  NaN  NaN  NaN  NaN  NaN  NaN  NaN  ...  NaN  NaN   \n\n                          15th                      \n           loss   GP  PCT team  win loss   GP  PCT  \n2016-10-25  NaN  NaN  NaN  NaN  NaN  NaN  NaN  NaN  \n2016-10-26  NaN  NaN  NaN  NaN  NaN  NaN  NaN  NaN  \n2016-10-27  NaN  NaN  NaN  NaN  NaN  NaN  NaN  NaN  \n2016-10-28  NaN  NaN  NaN  NaN  NaN  NaN  NaN  NaN  \n2016-10-29  NaN  NaN  NaN  NaN  NaN  NaN  NaN  NaN  \n...         ...  ...  ...  ...  ...  ...  ...  ...  \n2017-04-08  NaN  NaN  NaN  NaN  NaN  NaN  NaN  NaN  \n2017-04-09  NaN  NaN  NaN  NaN  NaN  NaN  NaN  NaN  \n2017-04-10  NaN  NaN  NaN  NaN  NaN  NaN  NaN  NaN  \n2017-04-11  NaN  NaN  NaN  NaN  NaN  NaN  NaN  NaN  \n2017-04-12  NaN  NaN  NaN  NaN  NaN  NaN  NaN  NaN  \n\n[170 rows x 75 columns]",
      "text/html": "<div>\n<style scoped>\n    .dataframe tbody tr th:only-of-type {\n        vertical-align: middle;\n    }\n\n    .dataframe tbody tr th {\n        vertical-align: top;\n    }\n\n    .dataframe thead tr th {\n        text-align: left;\n    }\n</style>\n<table border=\"1\" class=\"dataframe\">\n  <thead>\n    <tr>\n      <th></th>\n      <th colspan=\"5\" halign=\"left\">1st</th>\n      <th colspan=\"5\" halign=\"left\">2nd</th>\n      <th>...</th>\n      <th colspan=\"5\" halign=\"left\">14th</th>\n      <th colspan=\"5\" halign=\"left\">15th</th>\n    </tr>\n    <tr>\n      <th></th>\n      <th>team</th>\n      <th>win</th>\n      <th>loss</th>\n      <th>GP</th>\n      <th>PCT</th>\n      <th>team</th>\n      <th>win</th>\n      <th>loss</th>\n      <th>GP</th>\n      <th>PCT</th>\n      <th>...</th>\n      <th>team</th>\n      <th>win</th>\n      <th>loss</th>\n      <th>GP</th>\n      <th>PCT</th>\n      <th>team</th>\n      <th>win</th>\n      <th>loss</th>\n      <th>GP</th>\n      <th>PCT</th>\n    </tr>\n  </thead>\n  <tbody>\n    <tr>\n      <td>2016-10-25</td>\n      <td>NaN</td>\n      <td>NaN</td>\n      <td>NaN</td>\n      <td>NaN</td>\n      <td>NaN</td>\n      <td>NaN</td>\n      <td>NaN</td>\n      <td>NaN</td>\n      <td>NaN</td>\n      <td>NaN</td>\n      <td>...</td>\n      <td>NaN</td>\n      <td>NaN</td>\n      <td>NaN</td>\n      <td>NaN</td>\n      <td>NaN</td>\n      <td>NaN</td>\n      <td>NaN</td>\n      <td>NaN</td>\n      <td>NaN</td>\n      <td>NaN</td>\n    </tr>\n    <tr>\n      <td>2016-10-26</td>\n      <td>NaN</td>\n      <td>NaN</td>\n      <td>NaN</td>\n      <td>NaN</td>\n      <td>NaN</td>\n      <td>NaN</td>\n      <td>NaN</td>\n      <td>NaN</td>\n      <td>NaN</td>\n      <td>NaN</td>\n      <td>...</td>\n      <td>NaN</td>\n      <td>NaN</td>\n      <td>NaN</td>\n      <td>NaN</td>\n      <td>NaN</td>\n      <td>NaN</td>\n      <td>NaN</td>\n      <td>NaN</td>\n      <td>NaN</td>\n      <td>NaN</td>\n    </tr>\n    <tr>\n      <td>2016-10-27</td>\n      <td>NaN</td>\n      <td>NaN</td>\n      <td>NaN</td>\n      <td>NaN</td>\n      <td>NaN</td>\n      <td>NaN</td>\n      <td>NaN</td>\n      <td>NaN</td>\n      <td>NaN</td>\n      <td>NaN</td>\n      <td>...</td>\n      <td>NaN</td>\n      <td>NaN</td>\n      <td>NaN</td>\n      <td>NaN</td>\n      <td>NaN</td>\n      <td>NaN</td>\n      <td>NaN</td>\n      <td>NaN</td>\n      <td>NaN</td>\n      <td>NaN</td>\n    </tr>\n    <tr>\n      <td>2016-10-28</td>\n      <td>NaN</td>\n      <td>NaN</td>\n      <td>NaN</td>\n      <td>NaN</td>\n      <td>NaN</td>\n      <td>NaN</td>\n      <td>NaN</td>\n      <td>NaN</td>\n      <td>NaN</td>\n      <td>NaN</td>\n      <td>...</td>\n      <td>NaN</td>\n      <td>NaN</td>\n      <td>NaN</td>\n      <td>NaN</td>\n      <td>NaN</td>\n      <td>NaN</td>\n      <td>NaN</td>\n      <td>NaN</td>\n      <td>NaN</td>\n      <td>NaN</td>\n    </tr>\n    <tr>\n      <td>2016-10-29</td>\n      <td>NaN</td>\n      <td>NaN</td>\n      <td>NaN</td>\n      <td>NaN</td>\n      <td>NaN</td>\n      <td>NaN</td>\n      <td>NaN</td>\n      <td>NaN</td>\n      <td>NaN</td>\n      <td>NaN</td>\n      <td>...</td>\n      <td>NaN</td>\n      <td>NaN</td>\n      <td>NaN</td>\n      <td>NaN</td>\n      <td>NaN</td>\n      <td>NaN</td>\n      <td>NaN</td>\n      <td>NaN</td>\n      <td>NaN</td>\n      <td>NaN</td>\n    </tr>\n    <tr>\n      <td>...</td>\n      <td>...</td>\n      <td>...</td>\n      <td>...</td>\n      <td>...</td>\n      <td>...</td>\n      <td>...</td>\n      <td>...</td>\n      <td>...</td>\n      <td>...</td>\n      <td>...</td>\n      <td>...</td>\n      <td>...</td>\n      <td>...</td>\n      <td>...</td>\n      <td>...</td>\n      <td>...</td>\n      <td>...</td>\n      <td>...</td>\n      <td>...</td>\n      <td>...</td>\n      <td>...</td>\n    </tr>\n    <tr>\n      <td>2017-04-08</td>\n      <td>NaN</td>\n      <td>NaN</td>\n      <td>NaN</td>\n      <td>NaN</td>\n      <td>NaN</td>\n      <td>NaN</td>\n      <td>NaN</td>\n      <td>NaN</td>\n      <td>NaN</td>\n      <td>NaN</td>\n      <td>...</td>\n      <td>NaN</td>\n      <td>NaN</td>\n      <td>NaN</td>\n      <td>NaN</td>\n      <td>NaN</td>\n      <td>NaN</td>\n      <td>NaN</td>\n      <td>NaN</td>\n      <td>NaN</td>\n      <td>NaN</td>\n    </tr>\n    <tr>\n      <td>2017-04-09</td>\n      <td>NaN</td>\n      <td>NaN</td>\n      <td>NaN</td>\n      <td>NaN</td>\n      <td>NaN</td>\n      <td>NaN</td>\n      <td>NaN</td>\n      <td>NaN</td>\n      <td>NaN</td>\n      <td>NaN</td>\n      <td>...</td>\n      <td>NaN</td>\n      <td>NaN</td>\n      <td>NaN</td>\n      <td>NaN</td>\n      <td>NaN</td>\n      <td>NaN</td>\n      <td>NaN</td>\n      <td>NaN</td>\n      <td>NaN</td>\n      <td>NaN</td>\n    </tr>\n    <tr>\n      <td>2017-04-10</td>\n      <td>NaN</td>\n      <td>NaN</td>\n      <td>NaN</td>\n      <td>NaN</td>\n      <td>NaN</td>\n      <td>NaN</td>\n      <td>NaN</td>\n      <td>NaN</td>\n      <td>NaN</td>\n      <td>NaN</td>\n      <td>...</td>\n      <td>NaN</td>\n      <td>NaN</td>\n      <td>NaN</td>\n      <td>NaN</td>\n      <td>NaN</td>\n      <td>NaN</td>\n      <td>NaN</td>\n      <td>NaN</td>\n      <td>NaN</td>\n      <td>NaN</td>\n    </tr>\n    <tr>\n      <td>2017-04-11</td>\n      <td>NaN</td>\n      <td>NaN</td>\n      <td>NaN</td>\n      <td>NaN</td>\n      <td>NaN</td>\n      <td>NaN</td>\n      <td>NaN</td>\n      <td>NaN</td>\n      <td>NaN</td>\n      <td>NaN</td>\n      <td>...</td>\n      <td>NaN</td>\n      <td>NaN</td>\n      <td>NaN</td>\n      <td>NaN</td>\n      <td>NaN</td>\n      <td>NaN</td>\n      <td>NaN</td>\n      <td>NaN</td>\n      <td>NaN</td>\n      <td>NaN</td>\n    </tr>\n    <tr>\n      <td>2017-04-12</td>\n      <td>NaN</td>\n      <td>NaN</td>\n      <td>NaN</td>\n      <td>NaN</td>\n      <td>NaN</td>\n      <td>NaN</td>\n      <td>NaN</td>\n      <td>NaN</td>\n      <td>NaN</td>\n      <td>NaN</td>\n      <td>...</td>\n      <td>NaN</td>\n      <td>NaN</td>\n      <td>NaN</td>\n      <td>NaN</td>\n      <td>NaN</td>\n      <td>NaN</td>\n      <td>NaN</td>\n      <td>NaN</td>\n      <td>NaN</td>\n      <td>NaN</td>\n    </tr>\n  </tbody>\n</table>\n<p>170 rows × 75 columns</p>\n</div>"
     },
     "metadata": {},
     "execution_count": 54
    }
   ],
   "source": [
    "foo = pd.DataFrame(columns=multi,index= df.index )\n",
    "foo"
   ]
  },
  {
   "cell_type": "code",
   "execution_count": 55,
   "metadata": {},
   "outputs": [],
   "source": [
    "for column in df:\n",
    "    temp = df[column].str.extract(standings_pat)\n",
    "    temp['win'] = pd.to_numeric(temp['win'])\n",
    "    temp['loss'] = pd.to_numeric(temp['loss'])\n",
    "    temp['GP'] = temp['win'] + temp['loss']\n",
    "    temp['PCT'] = temp['win'] / temp['GP']\n",
    "    foo[column] = temp"
   ]
  },
  {
   "cell_type": "code",
   "execution_count": 56,
   "metadata": {},
   "outputs": [
    {
     "output_type": "execute_result",
     "data": {
      "text/plain": "            1st                      2nd                      ... 14th       \\\n           team win loss  GP    PCT team win loss  GP    PCT  ... team  win   \n2016-10-25  POR   1    0   1      1  SAS   1    0   1      1  ...  NaN  NaN   \n2016-10-26  DEN   1    0   1      1  LAL   1    0   1      1  ...  UTA    0   \n2016-10-27  SAS   2    0   2      1  DEN   1    0   1      1  ...  PHO    0   \n2016-10-28  OKC   2    0   2      1  SAS   2    0   2      1  ...  DAL    0   \n2016-10-29  SAS   3    0   3      1  OKC   2    0   2      1  ...  PHO    0   \n...         ...  ..  ...  ..    ...  ...  ..  ...  ..    ...  ...  ...  ...   \n2017-04-08  GSW  66   14  80  0.825  SAS  61   19  80  0.762  ...  LAL   24   \n2017-04-09  GSW  66   14  80  0.825  SAS  61   19  80  0.762  ...  LAL   25   \n2017-04-10  GSW  66   15  81  0.815  SAS  61   20  81  0.753  ...  LAL   25   \n2017-04-11  GSW  66   15  81  0.815  SAS  61   20  81  0.753  ...  LAL   26   \n2017-04-12  GSW  67   15  82  0.817  SAS  61   21  82  0.744  ...  LAL   26   \n\n                            15th                        \n           loss   GP    PCT team  win loss   GP    PCT  \n2016-10-25  NaN  NaN    NaN  NaN  NaN  NaN  NaN    NaN  \n2016-10-26    1    1      0  NaN  NaN  NaN  NaN    NaN  \n2016-10-27    1    1      0  UTA    0    1    1      0  \n2016-10-28    2    2      0  NOP    0    2    2      0  \n2016-10-29    2    2      0  NOP    0    3    3      0  \n...         ...  ...    ...  ...  ...  ...  ...    ...  \n2017-04-08   55   79  0.304  PHO   23   57   80  0.287  \n2017-04-09   55   80  0.312  PHO   24   57   81  0.296  \n2017-04-10   55   80  0.312  PHO   24   57   81  0.296  \n2017-04-11   55   81  0.321  PHO   24   58   82  0.293  \n2017-04-12   56   82  0.317  PHO   24   58   82  0.293  \n\n[170 rows x 75 columns]",
      "text/html": "<div>\n<style scoped>\n    .dataframe tbody tr th:only-of-type {\n        vertical-align: middle;\n    }\n\n    .dataframe tbody tr th {\n        vertical-align: top;\n    }\n\n    .dataframe thead tr th {\n        text-align: left;\n    }\n</style>\n<table border=\"1\" class=\"dataframe\">\n  <thead>\n    <tr>\n      <th></th>\n      <th colspan=\"5\" halign=\"left\">1st</th>\n      <th colspan=\"5\" halign=\"left\">2nd</th>\n      <th>...</th>\n      <th colspan=\"5\" halign=\"left\">14th</th>\n      <th colspan=\"5\" halign=\"left\">15th</th>\n    </tr>\n    <tr>\n      <th></th>\n      <th>team</th>\n      <th>win</th>\n      <th>loss</th>\n      <th>GP</th>\n      <th>PCT</th>\n      <th>team</th>\n      <th>win</th>\n      <th>loss</th>\n      <th>GP</th>\n      <th>PCT</th>\n      <th>...</th>\n      <th>team</th>\n      <th>win</th>\n      <th>loss</th>\n      <th>GP</th>\n      <th>PCT</th>\n      <th>team</th>\n      <th>win</th>\n      <th>loss</th>\n      <th>GP</th>\n      <th>PCT</th>\n    </tr>\n  </thead>\n  <tbody>\n    <tr>\n      <td>2016-10-25</td>\n      <td>POR</td>\n      <td>1</td>\n      <td>0</td>\n      <td>1</td>\n      <td>1</td>\n      <td>SAS</td>\n      <td>1</td>\n      <td>0</td>\n      <td>1</td>\n      <td>1</td>\n      <td>...</td>\n      <td>NaN</td>\n      <td>NaN</td>\n      <td>NaN</td>\n      <td>NaN</td>\n      <td>NaN</td>\n      <td>NaN</td>\n      <td>NaN</td>\n      <td>NaN</td>\n      <td>NaN</td>\n      <td>NaN</td>\n    </tr>\n    <tr>\n      <td>2016-10-26</td>\n      <td>DEN</td>\n      <td>1</td>\n      <td>0</td>\n      <td>1</td>\n      <td>1</td>\n      <td>LAL</td>\n      <td>1</td>\n      <td>0</td>\n      <td>1</td>\n      <td>1</td>\n      <td>...</td>\n      <td>UTA</td>\n      <td>0</td>\n      <td>1</td>\n      <td>1</td>\n      <td>0</td>\n      <td>NaN</td>\n      <td>NaN</td>\n      <td>NaN</td>\n      <td>NaN</td>\n      <td>NaN</td>\n    </tr>\n    <tr>\n      <td>2016-10-27</td>\n      <td>SAS</td>\n      <td>2</td>\n      <td>0</td>\n      <td>2</td>\n      <td>1</td>\n      <td>DEN</td>\n      <td>1</td>\n      <td>0</td>\n      <td>1</td>\n      <td>1</td>\n      <td>...</td>\n      <td>PHO</td>\n      <td>0</td>\n      <td>1</td>\n      <td>1</td>\n      <td>0</td>\n      <td>UTA</td>\n      <td>0</td>\n      <td>1</td>\n      <td>1</td>\n      <td>0</td>\n    </tr>\n    <tr>\n      <td>2016-10-28</td>\n      <td>OKC</td>\n      <td>2</td>\n      <td>0</td>\n      <td>2</td>\n      <td>1</td>\n      <td>SAS</td>\n      <td>2</td>\n      <td>0</td>\n      <td>2</td>\n      <td>1</td>\n      <td>...</td>\n      <td>DAL</td>\n      <td>0</td>\n      <td>2</td>\n      <td>2</td>\n      <td>0</td>\n      <td>NOP</td>\n      <td>0</td>\n      <td>2</td>\n      <td>2</td>\n      <td>0</td>\n    </tr>\n    <tr>\n      <td>2016-10-29</td>\n      <td>SAS</td>\n      <td>3</td>\n      <td>0</td>\n      <td>3</td>\n      <td>1</td>\n      <td>OKC</td>\n      <td>2</td>\n      <td>0</td>\n      <td>2</td>\n      <td>1</td>\n      <td>...</td>\n      <td>PHO</td>\n      <td>0</td>\n      <td>2</td>\n      <td>2</td>\n      <td>0</td>\n      <td>NOP</td>\n      <td>0</td>\n      <td>3</td>\n      <td>3</td>\n      <td>0</td>\n    </tr>\n    <tr>\n      <td>...</td>\n      <td>...</td>\n      <td>...</td>\n      <td>...</td>\n      <td>...</td>\n      <td>...</td>\n      <td>...</td>\n      <td>...</td>\n      <td>...</td>\n      <td>...</td>\n      <td>...</td>\n      <td>...</td>\n      <td>...</td>\n      <td>...</td>\n      <td>...</td>\n      <td>...</td>\n      <td>...</td>\n      <td>...</td>\n      <td>...</td>\n      <td>...</td>\n      <td>...</td>\n      <td>...</td>\n    </tr>\n    <tr>\n      <td>2017-04-08</td>\n      <td>GSW</td>\n      <td>66</td>\n      <td>14</td>\n      <td>80</td>\n      <td>0.825</td>\n      <td>SAS</td>\n      <td>61</td>\n      <td>19</td>\n      <td>80</td>\n      <td>0.762</td>\n      <td>...</td>\n      <td>LAL</td>\n      <td>24</td>\n      <td>55</td>\n      <td>79</td>\n      <td>0.304</td>\n      <td>PHO</td>\n      <td>23</td>\n      <td>57</td>\n      <td>80</td>\n      <td>0.287</td>\n    </tr>\n    <tr>\n      <td>2017-04-09</td>\n      <td>GSW</td>\n      <td>66</td>\n      <td>14</td>\n      <td>80</td>\n      <td>0.825</td>\n      <td>SAS</td>\n      <td>61</td>\n      <td>19</td>\n      <td>80</td>\n      <td>0.762</td>\n      <td>...</td>\n      <td>LAL</td>\n      <td>25</td>\n      <td>55</td>\n      <td>80</td>\n      <td>0.312</td>\n      <td>PHO</td>\n      <td>24</td>\n      <td>57</td>\n      <td>81</td>\n      <td>0.296</td>\n    </tr>\n    <tr>\n      <td>2017-04-10</td>\n      <td>GSW</td>\n      <td>66</td>\n      <td>15</td>\n      <td>81</td>\n      <td>0.815</td>\n      <td>SAS</td>\n      <td>61</td>\n      <td>20</td>\n      <td>81</td>\n      <td>0.753</td>\n      <td>...</td>\n      <td>LAL</td>\n      <td>25</td>\n      <td>55</td>\n      <td>80</td>\n      <td>0.312</td>\n      <td>PHO</td>\n      <td>24</td>\n      <td>57</td>\n      <td>81</td>\n      <td>0.296</td>\n    </tr>\n    <tr>\n      <td>2017-04-11</td>\n      <td>GSW</td>\n      <td>66</td>\n      <td>15</td>\n      <td>81</td>\n      <td>0.815</td>\n      <td>SAS</td>\n      <td>61</td>\n      <td>20</td>\n      <td>81</td>\n      <td>0.753</td>\n      <td>...</td>\n      <td>LAL</td>\n      <td>26</td>\n      <td>55</td>\n      <td>81</td>\n      <td>0.321</td>\n      <td>PHO</td>\n      <td>24</td>\n      <td>58</td>\n      <td>82</td>\n      <td>0.293</td>\n    </tr>\n    <tr>\n      <td>2017-04-12</td>\n      <td>GSW</td>\n      <td>67</td>\n      <td>15</td>\n      <td>82</td>\n      <td>0.817</td>\n      <td>SAS</td>\n      <td>61</td>\n      <td>21</td>\n      <td>82</td>\n      <td>0.744</td>\n      <td>...</td>\n      <td>LAL</td>\n      <td>26</td>\n      <td>56</td>\n      <td>82</td>\n      <td>0.317</td>\n      <td>PHO</td>\n      <td>24</td>\n      <td>58</td>\n      <td>82</td>\n      <td>0.293</td>\n    </tr>\n  </tbody>\n</table>\n<p>170 rows × 75 columns</p>\n</div>"
     },
     "metadata": {},
     "execution_count": 56
    }
   ],
   "source": [
    "foo"
   ]
  },
  {
   "cell_type": "markdown",
   "metadata": {},
   "source": [
    "Getting the list of teams, ordered by final ranking, can be extracted from the `DataFrame` with the following code."
   ]
  },
  {
   "cell_type": "code",
   "execution_count": 57,
   "metadata": {},
   "outputs": [],
   "source": [
    "dates = foo.index\n",
    "team_list = list(foo.loc[dates[-1],(slice(None),'team')].values)"
   ]
  },
  {
   "cell_type": "code",
   "execution_count": 58,
   "metadata": {},
   "outputs": [
    {
     "output_type": "execute_result",
     "data": {
      "text/plain": "['GSW',\n 'SAS',\n 'HOU',\n 'LAC',\n 'UTA',\n 'OKC',\n 'MEM',\n 'POR',\n 'DEN',\n 'NOP',\n 'DAL',\n 'SAC',\n 'MIN',\n 'LAL',\n 'PHO']"
     },
     "metadata": {},
     "execution_count": 58
    }
   ],
   "source": [
    "team_list"
   ]
  },
  {
   "cell_type": "markdown",
   "metadata": {},
   "source": [
    "It seems to be difficult to filter the `DataFrame` with `MultiIndex` columns to get the standings data for an individual team. A different strategy is needed. \n",
    "\n",
    "Stacking the `DataFrame` from the initial import from `Excel` seems to be a better way of going about it. It will produce a `Series` object with a `MultiIndex` that could be more maleable than the `DataFrame`."
   ]
  },
  {
   "cell_type": "code",
   "execution_count": 59,
   "metadata": {},
   "outputs": [
    {
     "output_type": "execute_result",
     "data": {
      "text/plain": "2016-10-25  1st     POR (1-0) T1\n            2nd     SAS (1-0) T1\n            3rd     GSW (0-1) T3\n            4th     UTA (0-1) T3\n            5th              NaN\n                        ...     \n2017-04-12  11th     DAL (33-49)\n            12th     SAC (32-50)\n            13th     MIN (31-51)\n            14th     LAL (26-56)\n            15th     PHO (24-58)\nLength: 2550, dtype: object"
     },
     "metadata": {},
     "execution_count": 59
    }
   ],
   "source": [
    "bar = df.stack(dropna=False)\n",
    "bar"
   ]
  },
  {
   "cell_type": "markdown",
   "metadata": {},
   "source": [
    "Setting `dropna` to `False` in the call to `stack` keeps the empty entries at the start of the season when some teams have yet to play a game. Might be better to leave it as the default `True`."
   ]
  },
  {
   "cell_type": "code",
   "execution_count": 60,
   "metadata": {},
   "outputs": [
    {
     "output_type": "execute_result",
     "data": {
      "text/plain": "pandas.core.series.Series"
     },
     "metadata": {},
     "execution_count": 60
    }
   ],
   "source": [
    "type(bar)"
   ]
  },
  {
   "cell_type": "code",
   "execution_count": 61,
   "metadata": {},
   "outputs": [
    {
     "output_type": "execute_result",
     "data": {
      "text/plain": "                team  win loss\n2016-10-25 1st   POR    1    0\n           2nd   SAS    1    0\n           3rd   GSW    0    1\n           4th   UTA    0    1\n           5th   NaN  NaN  NaN\n...              ...  ...  ...\n2017-04-12 11th  DAL   33   49\n           12th  SAC   32   50\n           13th  MIN   31   51\n           14th  LAL   26   56\n           15th  PHO   24   58\n\n[2550 rows x 3 columns]",
      "text/html": "<div>\n<style scoped>\n    .dataframe tbody tr th:only-of-type {\n        vertical-align: middle;\n    }\n\n    .dataframe tbody tr th {\n        vertical-align: top;\n    }\n\n    .dataframe thead th {\n        text-align: right;\n    }\n</style>\n<table border=\"1\" class=\"dataframe\">\n  <thead>\n    <tr style=\"text-align: right;\">\n      <th></th>\n      <th></th>\n      <th>team</th>\n      <th>win</th>\n      <th>loss</th>\n    </tr>\n  </thead>\n  <tbody>\n    <tr>\n      <td rowspan=\"5\" valign=\"top\">2016-10-25</td>\n      <td>1st</td>\n      <td>POR</td>\n      <td>1</td>\n      <td>0</td>\n    </tr>\n    <tr>\n      <td>2nd</td>\n      <td>SAS</td>\n      <td>1</td>\n      <td>0</td>\n    </tr>\n    <tr>\n      <td>3rd</td>\n      <td>GSW</td>\n      <td>0</td>\n      <td>1</td>\n    </tr>\n    <tr>\n      <td>4th</td>\n      <td>UTA</td>\n      <td>0</td>\n      <td>1</td>\n    </tr>\n    <tr>\n      <td>5th</td>\n      <td>NaN</td>\n      <td>NaN</td>\n      <td>NaN</td>\n    </tr>\n    <tr>\n      <td>...</td>\n      <td>...</td>\n      <td>...</td>\n      <td>...</td>\n      <td>...</td>\n    </tr>\n    <tr>\n      <td rowspan=\"5\" valign=\"top\">2017-04-12</td>\n      <td>11th</td>\n      <td>DAL</td>\n      <td>33</td>\n      <td>49</td>\n    </tr>\n    <tr>\n      <td>12th</td>\n      <td>SAC</td>\n      <td>32</td>\n      <td>50</td>\n    </tr>\n    <tr>\n      <td>13th</td>\n      <td>MIN</td>\n      <td>31</td>\n      <td>51</td>\n    </tr>\n    <tr>\n      <td>14th</td>\n      <td>LAL</td>\n      <td>26</td>\n      <td>56</td>\n    </tr>\n    <tr>\n      <td>15th</td>\n      <td>PHO</td>\n      <td>24</td>\n      <td>58</td>\n    </tr>\n  </tbody>\n</table>\n<p>2550 rows × 3 columns</p>\n</div>"
     },
     "metadata": {},
     "execution_count": 61
    }
   ],
   "source": [
    "baz = bar.str.extract(standings_pat,expand=False)\n",
    "baz\n",
    ""
   ]
  },
  {
   "cell_type": "code",
   "execution_count": 62,
   "metadata": {},
   "outputs": [
    {
     "output_type": "execute_result",
     "data": {
      "text/plain": "pandas.core.frame.DataFrame"
     },
     "metadata": {},
     "execution_count": 62
    }
   ],
   "source": [
    "type(baz)"
   ]
  },
  {
   "cell_type": "code",
   "execution_count": 63,
   "metadata": {},
   "outputs": [],
   "source": [
    "baz['win'] = pd.to_numeric(baz['win'])\n",
    "baz['loss'] = pd.to_numeric(baz['loss'])\n",
    "baz['GP'] = baz['win'] + baz['loss']\n",
    "baz['PCT'] = baz['win'] / baz['GP']"
   ]
  },
  {
   "cell_type": "code",
   "execution_count": 64,
   "metadata": {},
   "outputs": [
    {
     "output_type": "execute_result",
     "data": {
      "text/plain": "                team   win  loss    GP    PCT\n2016-10-25 1st   POR   1.0   0.0   1.0  1.000\n           2nd   SAS   1.0   0.0   1.0  1.000\n           3rd   GSW   0.0   1.0   1.0  0.000\n           4th   UTA   0.0   1.0   1.0  0.000\n           5th   NaN   NaN   NaN   NaN    NaN\n...              ...   ...   ...   ...    ...\n2017-04-12 11th  DAL  33.0  49.0  82.0  0.402\n           12th  SAC  32.0  50.0  82.0  0.390\n           13th  MIN  31.0  51.0  82.0  0.378\n           14th  LAL  26.0  56.0  82.0  0.317\n           15th  PHO  24.0  58.0  82.0  0.293\n\n[2550 rows x 5 columns]",
      "text/html": "<div>\n<style scoped>\n    .dataframe tbody tr th:only-of-type {\n        vertical-align: middle;\n    }\n\n    .dataframe tbody tr th {\n        vertical-align: top;\n    }\n\n    .dataframe thead th {\n        text-align: right;\n    }\n</style>\n<table border=\"1\" class=\"dataframe\">\n  <thead>\n    <tr style=\"text-align: right;\">\n      <th></th>\n      <th></th>\n      <th>team</th>\n      <th>win</th>\n      <th>loss</th>\n      <th>GP</th>\n      <th>PCT</th>\n    </tr>\n  </thead>\n  <tbody>\n    <tr>\n      <td rowspan=\"5\" valign=\"top\">2016-10-25</td>\n      <td>1st</td>\n      <td>POR</td>\n      <td>1.0</td>\n      <td>0.0</td>\n      <td>1.0</td>\n      <td>1.000</td>\n    </tr>\n    <tr>\n      <td>2nd</td>\n      <td>SAS</td>\n      <td>1.0</td>\n      <td>0.0</td>\n      <td>1.0</td>\n      <td>1.000</td>\n    </tr>\n    <tr>\n      <td>3rd</td>\n      <td>GSW</td>\n      <td>0.0</td>\n      <td>1.0</td>\n      <td>1.0</td>\n      <td>0.000</td>\n    </tr>\n    <tr>\n      <td>4th</td>\n      <td>UTA</td>\n      <td>0.0</td>\n      <td>1.0</td>\n      <td>1.0</td>\n      <td>0.000</td>\n    </tr>\n    <tr>\n      <td>5th</td>\n      <td>NaN</td>\n      <td>NaN</td>\n      <td>NaN</td>\n      <td>NaN</td>\n      <td>NaN</td>\n    </tr>\n    <tr>\n      <td>...</td>\n      <td>...</td>\n      <td>...</td>\n      <td>...</td>\n      <td>...</td>\n      <td>...</td>\n      <td>...</td>\n    </tr>\n    <tr>\n      <td rowspan=\"5\" valign=\"top\">2017-04-12</td>\n      <td>11th</td>\n      <td>DAL</td>\n      <td>33.0</td>\n      <td>49.0</td>\n      <td>82.0</td>\n      <td>0.402</td>\n    </tr>\n    <tr>\n      <td>12th</td>\n      <td>SAC</td>\n      <td>32.0</td>\n      <td>50.0</td>\n      <td>82.0</td>\n      <td>0.390</td>\n    </tr>\n    <tr>\n      <td>13th</td>\n      <td>MIN</td>\n      <td>31.0</td>\n      <td>51.0</td>\n      <td>82.0</td>\n      <td>0.378</td>\n    </tr>\n    <tr>\n      <td>14th</td>\n      <td>LAL</td>\n      <td>26.0</td>\n      <td>56.0</td>\n      <td>82.0</td>\n      <td>0.317</td>\n    </tr>\n    <tr>\n      <td>15th</td>\n      <td>PHO</td>\n      <td>24.0</td>\n      <td>58.0</td>\n      <td>82.0</td>\n      <td>0.293</td>\n    </tr>\n  </tbody>\n</table>\n<p>2550 rows × 5 columns</p>\n</div>"
     },
     "metadata": {},
     "execution_count": 64
    }
   ],
   "source": [
    "baz"
   ]
  },
  {
   "cell_type": "code",
   "execution_count": 65,
   "metadata": {},
   "outputs": [
    {
     "output_type": "execute_result",
     "data": {
      "text/plain": "           team   win  loss    GP    PCT  rank\n2016-10-25  POR   1.0   0.0   1.0  1.000   1st\n2016-10-25  SAS   1.0   0.0   1.0  1.000   2nd\n2016-10-25  GSW   0.0   1.0   1.0  0.000   3rd\n2016-10-25  UTA   0.0   1.0   1.0  0.000   4th\n2016-10-25  NaN   NaN   NaN   NaN    NaN   5th\n...         ...   ...   ...   ...    ...   ...\n2017-04-12  DAL  33.0  49.0  82.0  0.402  11th\n2017-04-12  SAC  32.0  50.0  82.0  0.390  12th\n2017-04-12  MIN  31.0  51.0  82.0  0.378  13th\n2017-04-12  LAL  26.0  56.0  82.0  0.317  14th\n2017-04-12  PHO  24.0  58.0  82.0  0.293  15th\n\n[2550 rows x 6 columns]",
      "text/html": "<div>\n<style scoped>\n    .dataframe tbody tr th:only-of-type {\n        vertical-align: middle;\n    }\n\n    .dataframe tbody tr th {\n        vertical-align: top;\n    }\n\n    .dataframe thead th {\n        text-align: right;\n    }\n</style>\n<table border=\"1\" class=\"dataframe\">\n  <thead>\n    <tr style=\"text-align: right;\">\n      <th></th>\n      <th>team</th>\n      <th>win</th>\n      <th>loss</th>\n      <th>GP</th>\n      <th>PCT</th>\n      <th>rank</th>\n    </tr>\n  </thead>\n  <tbody>\n    <tr>\n      <td>2016-10-25</td>\n      <td>POR</td>\n      <td>1.0</td>\n      <td>0.0</td>\n      <td>1.0</td>\n      <td>1.000</td>\n      <td>1st</td>\n    </tr>\n    <tr>\n      <td>2016-10-25</td>\n      <td>SAS</td>\n      <td>1.0</td>\n      <td>0.0</td>\n      <td>1.0</td>\n      <td>1.000</td>\n      <td>2nd</td>\n    </tr>\n    <tr>\n      <td>2016-10-25</td>\n      <td>GSW</td>\n      <td>0.0</td>\n      <td>1.0</td>\n      <td>1.0</td>\n      <td>0.000</td>\n      <td>3rd</td>\n    </tr>\n    <tr>\n      <td>2016-10-25</td>\n      <td>UTA</td>\n      <td>0.0</td>\n      <td>1.0</td>\n      <td>1.0</td>\n      <td>0.000</td>\n      <td>4th</td>\n    </tr>\n    <tr>\n      <td>2016-10-25</td>\n      <td>NaN</td>\n      <td>NaN</td>\n      <td>NaN</td>\n      <td>NaN</td>\n      <td>NaN</td>\n      <td>5th</td>\n    </tr>\n    <tr>\n      <td>...</td>\n      <td>...</td>\n      <td>...</td>\n      <td>...</td>\n      <td>...</td>\n      <td>...</td>\n      <td>...</td>\n    </tr>\n    <tr>\n      <td>2017-04-12</td>\n      <td>DAL</td>\n      <td>33.0</td>\n      <td>49.0</td>\n      <td>82.0</td>\n      <td>0.402</td>\n      <td>11th</td>\n    </tr>\n    <tr>\n      <td>2017-04-12</td>\n      <td>SAC</td>\n      <td>32.0</td>\n      <td>50.0</td>\n      <td>82.0</td>\n      <td>0.390</td>\n      <td>12th</td>\n    </tr>\n    <tr>\n      <td>2017-04-12</td>\n      <td>MIN</td>\n      <td>31.0</td>\n      <td>51.0</td>\n      <td>82.0</td>\n      <td>0.378</td>\n      <td>13th</td>\n    </tr>\n    <tr>\n      <td>2017-04-12</td>\n      <td>LAL</td>\n      <td>26.0</td>\n      <td>56.0</td>\n      <td>82.0</td>\n      <td>0.317</td>\n      <td>14th</td>\n    </tr>\n    <tr>\n      <td>2017-04-12</td>\n      <td>PHO</td>\n      <td>24.0</td>\n      <td>58.0</td>\n      <td>82.0</td>\n      <td>0.293</td>\n      <td>15th</td>\n    </tr>\n  </tbody>\n</table>\n<p>2550 rows × 6 columns</p>\n</div>"
     },
     "metadata": {},
     "execution_count": 65
    }
   ],
   "source": [
    "baz['rank'] = baz.index.levels[1][baz.index.codes[1]]\n",
    "baz.index = baz.index.droplevel(1)\n",
    "baz"
   ]
  },
  {
   "cell_type": "markdown",
   "metadata": {},
   "source": [
    "At this point, `baz` looks like it would be a good return for `get_standings_data_from_spreadsheet`. The code bellow relies on the `team_list` parameter which was retrieved from the `foo` `DataFrame`. Need to find a way to get it from the `baz` `DataFrame`."
   ]
  },
  {
   "cell_type": "code",
   "execution_count": 66,
   "metadata": {},
   "outputs": [
    {
     "output_type": "execute_result",
     "data": {
      "text/plain": "['GSW',\n 'SAS',\n 'HOU',\n 'LAC',\n 'UTA',\n 'OKC',\n 'MEM',\n 'POR',\n 'DEN',\n 'NOP',\n 'DAL',\n 'SAC',\n 'MIN',\n 'LAL',\n 'PHO']"
     },
     "metadata": {},
     "execution_count": 66
    }
   ],
   "source": [
    "end_date = baz.index[-1]\n",
    "list(baz.loc[end_date,'team'])"
   ]
  },
  {
   "cell_type": "code",
   "execution_count": 67,
   "metadata": {},
   "outputs": [],
   "source": [
    "df_list = [baz[baz['team'] == team] for team in team_list]"
   ]
  },
  {
   "cell_type": "code",
   "execution_count": 68,
   "metadata": {},
   "outputs": [
    {
     "output_type": "execute_result",
     "data": {
      "text/plain": "           team   win  loss    GP    PCT  rank\n2016-10-25  GSW   0.0   1.0   1.0  0.000   3rd\n2016-10-26  GSW   0.0   1.0   1.0  0.000   9th\n2016-10-27  GSW   0.0   1.0   1.0  0.000  10th\n2016-10-28  GSW   1.0   1.0   2.0  0.500   6th\n2016-10-29  GSW   1.0   1.0   2.0  0.500   7th\n...         ...   ...   ...   ...    ...   ...\n2017-04-08  GSW  66.0  14.0  80.0  0.825   1st\n2017-04-09  GSW  66.0  14.0  80.0  0.825   1st\n2017-04-10  GSW  66.0  15.0  81.0  0.815   1st\n2017-04-11  GSW  66.0  15.0  81.0  0.815   1st\n2017-04-12  GSW  67.0  15.0  82.0  0.817   1st\n\n[170 rows x 6 columns]",
      "text/html": "<div>\n<style scoped>\n    .dataframe tbody tr th:only-of-type {\n        vertical-align: middle;\n    }\n\n    .dataframe tbody tr th {\n        vertical-align: top;\n    }\n\n    .dataframe thead th {\n        text-align: right;\n    }\n</style>\n<table border=\"1\" class=\"dataframe\">\n  <thead>\n    <tr style=\"text-align: right;\">\n      <th></th>\n      <th>team</th>\n      <th>win</th>\n      <th>loss</th>\n      <th>GP</th>\n      <th>PCT</th>\n      <th>rank</th>\n    </tr>\n  </thead>\n  <tbody>\n    <tr>\n      <td>2016-10-25</td>\n      <td>GSW</td>\n      <td>0.0</td>\n      <td>1.0</td>\n      <td>1.0</td>\n      <td>0.000</td>\n      <td>3rd</td>\n    </tr>\n    <tr>\n      <td>2016-10-26</td>\n      <td>GSW</td>\n      <td>0.0</td>\n      <td>1.0</td>\n      <td>1.0</td>\n      <td>0.000</td>\n      <td>9th</td>\n    </tr>\n    <tr>\n      <td>2016-10-27</td>\n      <td>GSW</td>\n      <td>0.0</td>\n      <td>1.0</td>\n      <td>1.0</td>\n      <td>0.000</td>\n      <td>10th</td>\n    </tr>\n    <tr>\n      <td>2016-10-28</td>\n      <td>GSW</td>\n      <td>1.0</td>\n      <td>1.0</td>\n      <td>2.0</td>\n      <td>0.500</td>\n      <td>6th</td>\n    </tr>\n    <tr>\n      <td>2016-10-29</td>\n      <td>GSW</td>\n      <td>1.0</td>\n      <td>1.0</td>\n      <td>2.0</td>\n      <td>0.500</td>\n      <td>7th</td>\n    </tr>\n    <tr>\n      <td>...</td>\n      <td>...</td>\n      <td>...</td>\n      <td>...</td>\n      <td>...</td>\n      <td>...</td>\n      <td>...</td>\n    </tr>\n    <tr>\n      <td>2017-04-08</td>\n      <td>GSW</td>\n      <td>66.0</td>\n      <td>14.0</td>\n      <td>80.0</td>\n      <td>0.825</td>\n      <td>1st</td>\n    </tr>\n    <tr>\n      <td>2017-04-09</td>\n      <td>GSW</td>\n      <td>66.0</td>\n      <td>14.0</td>\n      <td>80.0</td>\n      <td>0.825</td>\n      <td>1st</td>\n    </tr>\n    <tr>\n      <td>2017-04-10</td>\n      <td>GSW</td>\n      <td>66.0</td>\n      <td>15.0</td>\n      <td>81.0</td>\n      <td>0.815</td>\n      <td>1st</td>\n    </tr>\n    <tr>\n      <td>2017-04-11</td>\n      <td>GSW</td>\n      <td>66.0</td>\n      <td>15.0</td>\n      <td>81.0</td>\n      <td>0.815</td>\n      <td>1st</td>\n    </tr>\n    <tr>\n      <td>2017-04-12</td>\n      <td>GSW</td>\n      <td>67.0</td>\n      <td>15.0</td>\n      <td>82.0</td>\n      <td>0.817</td>\n      <td>1st</td>\n    </tr>\n  </tbody>\n</table>\n<p>170 rows × 6 columns</p>\n</div>"
     },
     "metadata": {},
     "execution_count": 68
    }
   ],
   "source": [
    "df_list[0]"
   ]
  },
  {
   "cell_type": "code",
   "execution_count": 69,
   "metadata": {},
   "outputs": [
    {
     "output_type": "execute_result",
     "data": {
      "text/plain": "DatetimeIndex(['2016-10-25', '2016-10-26', '2016-10-27', '2016-10-28',\n               '2016-10-29', '2016-10-30', '2016-10-31', '2016-11-01',\n               '2016-11-02', '2016-11-03',\n               ...\n               '2017-04-03', '2017-04-04', '2017-04-05', '2017-04-06',\n               '2017-04-07', '2017-04-08', '2017-04-09', '2017-04-10',\n               '2017-04-11', '2017-04-12'],\n              dtype='datetime64[ns]', length=170, freq=None)"
     },
     "metadata": {},
     "execution_count": 69
    }
   ],
   "source": [
    "df_list[0].index"
   ]
  },
  {
   "cell_type": "code",
   "execution_count": 70,
   "metadata": {},
   "outputs": [
    {
     "output_type": "execute_result",
     "data": {
      "text/plain": "2016-10-25    0.000\n2016-10-26    0.000\n2016-10-27    0.000\n2016-10-28    0.500\n2016-10-29    0.500\n              ...  \n2017-04-08    0.825\n2017-04-09    0.825\n2017-04-10    0.815\n2017-04-11    0.815\n2017-04-12    0.817\nName: PCT, Length: 170, dtype: float64"
     },
     "metadata": {},
     "execution_count": 70
    }
   ],
   "source": [
    "baz[baz['team'] == 'GSW']['PCT']"
   ]
  },
  {
   "cell_type": "code",
   "execution_count": 71,
   "metadata": {},
   "outputs": [],
   "source": [
    "win_frac_data = [baz[baz['team'] == team]['PCT'] for team in team_list]"
   ]
  },
  {
   "cell_type": "code",
   "execution_count": 72,
   "metadata": {},
   "outputs": [
    {
     "output_type": "execute_result",
     "data": {
      "text/plain": "2016-10-25    0.000\n2016-10-26    0.000\n2016-10-27    0.000\n2016-10-28    0.500\n2016-10-29    0.500\n              ...  \n2017-04-08    0.825\n2017-04-09    0.825\n2017-04-10    0.815\n2017-04-11    0.815\n2017-04-12    0.817\nName: PCT, Length: 170, dtype: float64"
     },
     "metadata": {},
     "execution_count": 72
    }
   ],
   "source": [
    "win_frac_data[0]"
   ]
  },
  {
   "cell_type": "code",
   "execution_count": 73,
   "metadata": {},
   "outputs": [
    {
     "output_type": "execute_result",
     "data": {
      "text/plain": "              GSW    SAS    HOU    LAC    UTA    OKC    MEM    POR    DEN  \\\n2016-10-25  0.000  1.000    NaN    NaN  0.000    NaN    NaN  1.000    NaN   \n2016-10-26  0.000  1.000  0.000    NaN  0.000  1.000  1.000  1.000  1.000   \n2016-10-27  0.000  1.000  0.000  1.000  0.000  1.000  1.000  0.500  1.000   \n2016-10-28  0.500  1.000  0.500  1.000  0.500  1.000  1.000  0.500  1.000   \n2016-10-29  0.500  1.000  0.500  1.000  0.500  1.000  0.500  0.667  0.500   \n...           ...    ...    ...    ...    ...    ...    ...    ...    ...   \n2017-04-08  0.825  0.762  0.671  0.613  0.613  0.570  0.537  0.500  0.481   \n2017-04-09  0.825  0.762  0.675  0.613  0.613  0.575  0.531  0.500  0.475   \n2017-04-10  0.815  0.753  0.667  0.617  0.617  0.575  0.531  0.506  0.475   \n2017-04-11  0.815  0.753  0.667  0.617  0.617  0.580  0.531  0.506  0.481   \n2017-04-12  0.817  0.744  0.671  0.622  0.622  0.573  0.524  0.500  0.488   \n\n              NOP    DAL    SAC    MIN    LAL    PHO  \n2016-10-25    NaN    NaN    NaN    NaN    NaN    NaN  \n2016-10-26  0.000  0.000  1.000  0.000  1.000  0.000  \n2016-10-27  0.000  0.000  0.500  0.000  1.000  0.000  \n2016-10-28  0.000  0.000  0.500  0.000  0.500  0.000  \n2016-10-29  0.000  0.000  0.667  0.000  0.500  0.000  \n...           ...    ...    ...    ...    ...    ...  \n2017-04-08  0.412  0.405  0.392  0.392  0.304  0.287  \n2017-04-09  0.412  0.400  0.388  0.388  0.312  0.296  \n2017-04-10  0.412  0.400  0.388  0.388  0.312  0.296  \n2017-04-11  0.407  0.395  0.395  0.383  0.321  0.293  \n2017-04-12  0.415  0.402  0.390  0.378  0.317  0.293  \n\n[170 rows x 15 columns]",
      "text/html": "<div>\n<style scoped>\n    .dataframe tbody tr th:only-of-type {\n        vertical-align: middle;\n    }\n\n    .dataframe tbody tr th {\n        vertical-align: top;\n    }\n\n    .dataframe thead th {\n        text-align: right;\n    }\n</style>\n<table border=\"1\" class=\"dataframe\">\n  <thead>\n    <tr style=\"text-align: right;\">\n      <th></th>\n      <th>GSW</th>\n      <th>SAS</th>\n      <th>HOU</th>\n      <th>LAC</th>\n      <th>UTA</th>\n      <th>OKC</th>\n      <th>MEM</th>\n      <th>POR</th>\n      <th>DEN</th>\n      <th>NOP</th>\n      <th>DAL</th>\n      <th>SAC</th>\n      <th>MIN</th>\n      <th>LAL</th>\n      <th>PHO</th>\n    </tr>\n  </thead>\n  <tbody>\n    <tr>\n      <td>2016-10-25</td>\n      <td>0.000</td>\n      <td>1.000</td>\n      <td>NaN</td>\n      <td>NaN</td>\n      <td>0.000</td>\n      <td>NaN</td>\n      <td>NaN</td>\n      <td>1.000</td>\n      <td>NaN</td>\n      <td>NaN</td>\n      <td>NaN</td>\n      <td>NaN</td>\n      <td>NaN</td>\n      <td>NaN</td>\n      <td>NaN</td>\n    </tr>\n    <tr>\n      <td>2016-10-26</td>\n      <td>0.000</td>\n      <td>1.000</td>\n      <td>0.000</td>\n      <td>NaN</td>\n      <td>0.000</td>\n      <td>1.000</td>\n      <td>1.000</td>\n      <td>1.000</td>\n      <td>1.000</td>\n      <td>0.000</td>\n      <td>0.000</td>\n      <td>1.000</td>\n      <td>0.000</td>\n      <td>1.000</td>\n      <td>0.000</td>\n    </tr>\n    <tr>\n      <td>2016-10-27</td>\n      <td>0.000</td>\n      <td>1.000</td>\n      <td>0.000</td>\n      <td>1.000</td>\n      <td>0.000</td>\n      <td>1.000</td>\n      <td>1.000</td>\n      <td>0.500</td>\n      <td>1.000</td>\n      <td>0.000</td>\n      <td>0.000</td>\n      <td>0.500</td>\n      <td>0.000</td>\n      <td>1.000</td>\n      <td>0.000</td>\n    </tr>\n    <tr>\n      <td>2016-10-28</td>\n      <td>0.500</td>\n      <td>1.000</td>\n      <td>0.500</td>\n      <td>1.000</td>\n      <td>0.500</td>\n      <td>1.000</td>\n      <td>1.000</td>\n      <td>0.500</td>\n      <td>1.000</td>\n      <td>0.000</td>\n      <td>0.000</td>\n      <td>0.500</td>\n      <td>0.000</td>\n      <td>0.500</td>\n      <td>0.000</td>\n    </tr>\n    <tr>\n      <td>2016-10-29</td>\n      <td>0.500</td>\n      <td>1.000</td>\n      <td>0.500</td>\n      <td>1.000</td>\n      <td>0.500</td>\n      <td>1.000</td>\n      <td>0.500</td>\n      <td>0.667</td>\n      <td>0.500</td>\n      <td>0.000</td>\n      <td>0.000</td>\n      <td>0.667</td>\n      <td>0.000</td>\n      <td>0.500</td>\n      <td>0.000</td>\n    </tr>\n    <tr>\n      <td>...</td>\n      <td>...</td>\n      <td>...</td>\n      <td>...</td>\n      <td>...</td>\n      <td>...</td>\n      <td>...</td>\n      <td>...</td>\n      <td>...</td>\n      <td>...</td>\n      <td>...</td>\n      <td>...</td>\n      <td>...</td>\n      <td>...</td>\n      <td>...</td>\n      <td>...</td>\n    </tr>\n    <tr>\n      <td>2017-04-08</td>\n      <td>0.825</td>\n      <td>0.762</td>\n      <td>0.671</td>\n      <td>0.613</td>\n      <td>0.613</td>\n      <td>0.570</td>\n      <td>0.537</td>\n      <td>0.500</td>\n      <td>0.481</td>\n      <td>0.412</td>\n      <td>0.405</td>\n      <td>0.392</td>\n      <td>0.392</td>\n      <td>0.304</td>\n      <td>0.287</td>\n    </tr>\n    <tr>\n      <td>2017-04-09</td>\n      <td>0.825</td>\n      <td>0.762</td>\n      <td>0.675</td>\n      <td>0.613</td>\n      <td>0.613</td>\n      <td>0.575</td>\n      <td>0.531</td>\n      <td>0.500</td>\n      <td>0.475</td>\n      <td>0.412</td>\n      <td>0.400</td>\n      <td>0.388</td>\n      <td>0.388</td>\n      <td>0.312</td>\n      <td>0.296</td>\n    </tr>\n    <tr>\n      <td>2017-04-10</td>\n      <td>0.815</td>\n      <td>0.753</td>\n      <td>0.667</td>\n      <td>0.617</td>\n      <td>0.617</td>\n      <td>0.575</td>\n      <td>0.531</td>\n      <td>0.506</td>\n      <td>0.475</td>\n      <td>0.412</td>\n      <td>0.400</td>\n      <td>0.388</td>\n      <td>0.388</td>\n      <td>0.312</td>\n      <td>0.296</td>\n    </tr>\n    <tr>\n      <td>2017-04-11</td>\n      <td>0.815</td>\n      <td>0.753</td>\n      <td>0.667</td>\n      <td>0.617</td>\n      <td>0.617</td>\n      <td>0.580</td>\n      <td>0.531</td>\n      <td>0.506</td>\n      <td>0.481</td>\n      <td>0.407</td>\n      <td>0.395</td>\n      <td>0.395</td>\n      <td>0.383</td>\n      <td>0.321</td>\n      <td>0.293</td>\n    </tr>\n    <tr>\n      <td>2017-04-12</td>\n      <td>0.817</td>\n      <td>0.744</td>\n      <td>0.671</td>\n      <td>0.622</td>\n      <td>0.622</td>\n      <td>0.573</td>\n      <td>0.524</td>\n      <td>0.500</td>\n      <td>0.488</td>\n      <td>0.415</td>\n      <td>0.402</td>\n      <td>0.390</td>\n      <td>0.378</td>\n      <td>0.317</td>\n      <td>0.293</td>\n    </tr>\n  </tbody>\n</table>\n<p>170 rows × 15 columns</p>\n</div>"
     },
     "metadata": {},
     "execution_count": 73
    }
   ],
   "source": [
    "win_frac_df = pd.concat(win_frac_data, axis=1, keys=team_list)\n",
    "win_frac_df"
   ]
  },
  {
   "cell_type": "code",
   "execution_count": 80,
   "metadata": {},
   "outputs": [
    {
     "output_type": "display_data",
     "data": {
      "text/plain": "<Figure size 432x288 with 1 Axes>",
      "image/svg+xml": "<?xml version=\"1.0\" encoding=\"utf-8\" standalone=\"no\"?>\r\n<!DOCTYPE svg PUBLIC \"-//W3C//DTD SVG 1.1//EN\"\r\n  \"http://www.w3.org/Graphics/SVG/1.1/DTD/svg11.dtd\">\r\n<!-- Created with matplotlib (https://matplotlib.org/) -->\r\n<svg height=\"252.317344pt\" version=\"1.1\" viewBox=\"0 0 380.054687 252.317344\" width=\"380.054687pt\" xmlns=\"http://www.w3.org/2000/svg\" xmlns:xlink=\"http://www.w3.org/1999/xlink\">\r\n <defs>\r\n  <style type=\"text/css\">\r\n*{stroke-linecap:butt;stroke-linejoin:round;}\r\n  </style>\r\n </defs>\r\n <g id=\"figure_1\">\r\n  <g id=\"patch_1\">\r\n   <path d=\"M 0 252.317344 \r\nL 380.054687 252.317344 \r\nL 380.054687 0 \r\nL 0 0 \r\nz\r\n\" style=\"fill:none;\"/>\r\n  </g>\r\n  <g id=\"axes_1\">\r\n   <g id=\"patch_2\">\r\n    <path d=\"M 30.103125 228.439219 \r\nL 364.903125 228.439219 \r\nL 364.903125 10.999219 \r\nL 30.103125 10.999219 \r\nz\r\n\" style=\"fill:#ffffff;\"/>\r\n   </g>\r\n   <g id=\"matplotlib.axis_1\">\r\n    <g id=\"xtick_1\">\r\n     <g id=\"line2d_1\">\r\n      <defs>\r\n       <path d=\"M 0 0 \r\nL 0 3.5 \r\n\" id=\"mff22b5fdf9\" style=\"stroke:#000000;stroke-width:0.8;\"/>\r\n      </defs>\r\n      <g>\r\n       <use style=\"stroke:#000000;stroke-width:0.8;\" x=\"30.103125\" xlink:href=\"#mff22b5fdf9\" y=\"228.439219\"/>\r\n      </g>\r\n     </g>\r\n     <g id=\"text_1\">\r\n      <!-- 0.0 -->\r\n      <defs>\r\n       <path d=\"M 31.78125 66.40625 \r\nQ 24.171875 66.40625 20.328125 58.90625 \r\nQ 16.5 51.421875 16.5 36.375 \r\nQ 16.5 21.390625 20.328125 13.890625 \r\nQ 24.171875 6.390625 31.78125 6.390625 \r\nQ 39.453125 6.390625 43.28125 13.890625 \r\nQ 47.125 21.390625 47.125 36.375 \r\nQ 47.125 51.421875 43.28125 58.90625 \r\nQ 39.453125 66.40625 31.78125 66.40625 \r\nz\r\nM 31.78125 74.21875 \r\nQ 44.046875 74.21875 50.515625 64.515625 \r\nQ 56.984375 54.828125 56.984375 36.375 \r\nQ 56.984375 17.96875 50.515625 8.265625 \r\nQ 44.046875 -1.421875 31.78125 -1.421875 \r\nQ 19.53125 -1.421875 13.0625 8.265625 \r\nQ 6.59375 17.96875 6.59375 36.375 \r\nQ 6.59375 54.828125 13.0625 64.515625 \r\nQ 19.53125 74.21875 31.78125 74.21875 \r\nz\r\n\" id=\"DejaVuSans-48\"/>\r\n       <path d=\"M 10.6875 12.40625 \r\nL 21 12.40625 \r\nL 21 0 \r\nL 10.6875 0 \r\nz\r\n\" id=\"DejaVuSans-46\"/>\r\n      </defs>\r\n      <g transform=\"translate(22.151563 243.037656)scale(0.1 -0.1)\">\r\n       <use xlink:href=\"#DejaVuSans-48\"/>\r\n       <use x=\"63.623047\" xlink:href=\"#DejaVuSans-46\"/>\r\n       <use x=\"95.410156\" xlink:href=\"#DejaVuSans-48\"/>\r\n      </g>\r\n     </g>\r\n    </g>\r\n    <g id=\"xtick_2\">\r\n     <g id=\"line2d_2\">\r\n      <g>\r\n       <use style=\"stroke:#000000;stroke-width:0.8;\" x=\"97.063125\" xlink:href=\"#mff22b5fdf9\" y=\"228.439219\"/>\r\n      </g>\r\n     </g>\r\n     <g id=\"text_2\">\r\n      <!-- 0.2 -->\r\n      <defs>\r\n       <path d=\"M 19.1875 8.296875 \r\nL 53.609375 8.296875 \r\nL 53.609375 0 \r\nL 7.328125 0 \r\nL 7.328125 8.296875 \r\nQ 12.9375 14.109375 22.625 23.890625 \r\nQ 32.328125 33.6875 34.8125 36.53125 \r\nQ 39.546875 41.84375 41.421875 45.53125 \r\nQ 43.3125 49.21875 43.3125 52.78125 \r\nQ 43.3125 58.59375 39.234375 62.25 \r\nQ 35.15625 65.921875 28.609375 65.921875 \r\nQ 23.96875 65.921875 18.8125 64.3125 \r\nQ 13.671875 62.703125 7.8125 59.421875 \r\nL 7.8125 69.390625 \r\nQ 13.765625 71.78125 18.9375 73 \r\nQ 24.125 74.21875 28.421875 74.21875 \r\nQ 39.75 74.21875 46.484375 68.546875 \r\nQ 53.21875 62.890625 53.21875 53.421875 \r\nQ 53.21875 48.921875 51.53125 44.890625 \r\nQ 49.859375 40.875 45.40625 35.40625 \r\nQ 44.1875 33.984375 37.640625 27.21875 \r\nQ 31.109375 20.453125 19.1875 8.296875 \r\nz\r\n\" id=\"DejaVuSans-50\"/>\r\n      </defs>\r\n      <g transform=\"translate(89.111563 243.037656)scale(0.1 -0.1)\">\r\n       <use xlink:href=\"#DejaVuSans-48\"/>\r\n       <use x=\"63.623047\" xlink:href=\"#DejaVuSans-46\"/>\r\n       <use x=\"95.410156\" xlink:href=\"#DejaVuSans-50\"/>\r\n      </g>\r\n     </g>\r\n    </g>\r\n    <g id=\"xtick_3\">\r\n     <g id=\"line2d_3\">\r\n      <g>\r\n       <use style=\"stroke:#000000;stroke-width:0.8;\" x=\"164.023125\" xlink:href=\"#mff22b5fdf9\" y=\"228.439219\"/>\r\n      </g>\r\n     </g>\r\n     <g id=\"text_3\">\r\n      <!-- 0.4 -->\r\n      <defs>\r\n       <path d=\"M 37.796875 64.3125 \r\nL 12.890625 25.390625 \r\nL 37.796875 25.390625 \r\nz\r\nM 35.203125 72.90625 \r\nL 47.609375 72.90625 \r\nL 47.609375 25.390625 \r\nL 58.015625 25.390625 \r\nL 58.015625 17.1875 \r\nL 47.609375 17.1875 \r\nL 47.609375 0 \r\nL 37.796875 0 \r\nL 37.796875 17.1875 \r\nL 4.890625 17.1875 \r\nL 4.890625 26.703125 \r\nz\r\n\" id=\"DejaVuSans-52\"/>\r\n      </defs>\r\n      <g transform=\"translate(156.071563 243.037656)scale(0.1 -0.1)\">\r\n       <use xlink:href=\"#DejaVuSans-48\"/>\r\n       <use x=\"63.623047\" xlink:href=\"#DejaVuSans-46\"/>\r\n       <use x=\"95.410156\" xlink:href=\"#DejaVuSans-52\"/>\r\n      </g>\r\n     </g>\r\n    </g>\r\n    <g id=\"xtick_4\">\r\n     <g id=\"line2d_4\">\r\n      <g>\r\n       <use style=\"stroke:#000000;stroke-width:0.8;\" x=\"230.983125\" xlink:href=\"#mff22b5fdf9\" y=\"228.439219\"/>\r\n      </g>\r\n     </g>\r\n     <g id=\"text_4\">\r\n      <!-- 0.6 -->\r\n      <defs>\r\n       <path d=\"M 33.015625 40.375 \r\nQ 26.375 40.375 22.484375 35.828125 \r\nQ 18.609375 31.296875 18.609375 23.390625 \r\nQ 18.609375 15.53125 22.484375 10.953125 \r\nQ 26.375 6.390625 33.015625 6.390625 \r\nQ 39.65625 6.390625 43.53125 10.953125 \r\nQ 47.40625 15.53125 47.40625 23.390625 \r\nQ 47.40625 31.296875 43.53125 35.828125 \r\nQ 39.65625 40.375 33.015625 40.375 \r\nz\r\nM 52.59375 71.296875 \r\nL 52.59375 62.3125 \r\nQ 48.875 64.0625 45.09375 64.984375 \r\nQ 41.3125 65.921875 37.59375 65.921875 \r\nQ 27.828125 65.921875 22.671875 59.328125 \r\nQ 17.53125 52.734375 16.796875 39.40625 \r\nQ 19.671875 43.65625 24.015625 45.921875 \r\nQ 28.375 48.1875 33.59375 48.1875 \r\nQ 44.578125 48.1875 50.953125 41.515625 \r\nQ 57.328125 34.859375 57.328125 23.390625 \r\nQ 57.328125 12.15625 50.6875 5.359375 \r\nQ 44.046875 -1.421875 33.015625 -1.421875 \r\nQ 20.359375 -1.421875 13.671875 8.265625 \r\nQ 6.984375 17.96875 6.984375 36.375 \r\nQ 6.984375 53.65625 15.1875 63.9375 \r\nQ 23.390625 74.21875 37.203125 74.21875 \r\nQ 40.921875 74.21875 44.703125 73.484375 \r\nQ 48.484375 72.75 52.59375 71.296875 \r\nz\r\n\" id=\"DejaVuSans-54\"/>\r\n      </defs>\r\n      <g transform=\"translate(223.031563 243.037656)scale(0.1 -0.1)\">\r\n       <use xlink:href=\"#DejaVuSans-48\"/>\r\n       <use x=\"63.623047\" xlink:href=\"#DejaVuSans-46\"/>\r\n       <use x=\"95.410156\" xlink:href=\"#DejaVuSans-54\"/>\r\n      </g>\r\n     </g>\r\n    </g>\r\n    <g id=\"xtick_5\">\r\n     <g id=\"line2d_5\">\r\n      <g>\r\n       <use style=\"stroke:#000000;stroke-width:0.8;\" x=\"297.943125\" xlink:href=\"#mff22b5fdf9\" y=\"228.439219\"/>\r\n      </g>\r\n     </g>\r\n     <g id=\"text_5\">\r\n      <!-- 0.8 -->\r\n      <defs>\r\n       <path d=\"M 31.78125 34.625 \r\nQ 24.75 34.625 20.71875 30.859375 \r\nQ 16.703125 27.09375 16.703125 20.515625 \r\nQ 16.703125 13.921875 20.71875 10.15625 \r\nQ 24.75 6.390625 31.78125 6.390625 \r\nQ 38.8125 6.390625 42.859375 10.171875 \r\nQ 46.921875 13.96875 46.921875 20.515625 \r\nQ 46.921875 27.09375 42.890625 30.859375 \r\nQ 38.875 34.625 31.78125 34.625 \r\nz\r\nM 21.921875 38.8125 \r\nQ 15.578125 40.375 12.03125 44.71875 \r\nQ 8.5 49.078125 8.5 55.328125 \r\nQ 8.5 64.0625 14.71875 69.140625 \r\nQ 20.953125 74.21875 31.78125 74.21875 \r\nQ 42.671875 74.21875 48.875 69.140625 \r\nQ 55.078125 64.0625 55.078125 55.328125 \r\nQ 55.078125 49.078125 51.53125 44.71875 \r\nQ 48 40.375 41.703125 38.8125 \r\nQ 48.828125 37.15625 52.796875 32.3125 \r\nQ 56.78125 27.484375 56.78125 20.515625 \r\nQ 56.78125 9.90625 50.3125 4.234375 \r\nQ 43.84375 -1.421875 31.78125 -1.421875 \r\nQ 19.734375 -1.421875 13.25 4.234375 \r\nQ 6.78125 9.90625 6.78125 20.515625 \r\nQ 6.78125 27.484375 10.78125 32.3125 \r\nQ 14.796875 37.15625 21.921875 38.8125 \r\nz\r\nM 18.3125 54.390625 \r\nQ 18.3125 48.734375 21.84375 45.5625 \r\nQ 25.390625 42.390625 31.78125 42.390625 \r\nQ 38.140625 42.390625 41.71875 45.5625 \r\nQ 45.3125 48.734375 45.3125 54.390625 \r\nQ 45.3125 60.0625 41.71875 63.234375 \r\nQ 38.140625 66.40625 31.78125 66.40625 \r\nQ 25.390625 66.40625 21.84375 63.234375 \r\nQ 18.3125 60.0625 18.3125 54.390625 \r\nz\r\n\" id=\"DejaVuSans-56\"/>\r\n      </defs>\r\n      <g transform=\"translate(289.991563 243.037656)scale(0.1 -0.1)\">\r\n       <use xlink:href=\"#DejaVuSans-48\"/>\r\n       <use x=\"63.623047\" xlink:href=\"#DejaVuSans-46\"/>\r\n       <use x=\"95.410156\" xlink:href=\"#DejaVuSans-56\"/>\r\n      </g>\r\n     </g>\r\n    </g>\r\n    <g id=\"xtick_6\">\r\n     <g id=\"line2d_6\">\r\n      <g>\r\n       <use style=\"stroke:#000000;stroke-width:0.8;\" x=\"364.903125\" xlink:href=\"#mff22b5fdf9\" y=\"228.439219\"/>\r\n      </g>\r\n     </g>\r\n     <g id=\"text_6\">\r\n      <!-- 1.0 -->\r\n      <defs>\r\n       <path d=\"M 12.40625 8.296875 \r\nL 28.515625 8.296875 \r\nL 28.515625 63.921875 \r\nL 10.984375 60.40625 \r\nL 10.984375 69.390625 \r\nL 28.421875 72.90625 \r\nL 38.28125 72.90625 \r\nL 38.28125 8.296875 \r\nL 54.390625 8.296875 \r\nL 54.390625 0 \r\nL 12.40625 0 \r\nz\r\n\" id=\"DejaVuSans-49\"/>\r\n      </defs>\r\n      <g transform=\"translate(356.951563 243.037656)scale(0.1 -0.1)\">\r\n       <use xlink:href=\"#DejaVuSans-49\"/>\r\n       <use x=\"63.623047\" xlink:href=\"#DejaVuSans-46\"/>\r\n       <use x=\"95.410156\" xlink:href=\"#DejaVuSans-48\"/>\r\n      </g>\r\n     </g>\r\n    </g>\r\n   </g>\r\n   <g id=\"matplotlib.axis_2\">\r\n    <g id=\"ytick_1\">\r\n     <g id=\"line2d_7\">\r\n      <defs>\r\n       <path d=\"M 0 0 \r\nL -3.5 0 \r\n\" id=\"m4e57d682b2\" style=\"stroke:#000000;stroke-width:0.8;\"/>\r\n      </defs>\r\n      <g>\r\n       <use style=\"stroke:#000000;stroke-width:0.8;\" x=\"30.103125\" xlink:href=\"#m4e57d682b2\" y=\"228.439219\"/>\r\n      </g>\r\n     </g>\r\n     <g id=\"text_7\">\r\n      <!-- 0.0 -->\r\n      <g transform=\"translate(7.2 232.238437)scale(0.1 -0.1)\">\r\n       <use xlink:href=\"#DejaVuSans-48\"/>\r\n       <use x=\"63.623047\" xlink:href=\"#DejaVuSans-46\"/>\r\n       <use x=\"95.410156\" xlink:href=\"#DejaVuSans-48\"/>\r\n      </g>\r\n     </g>\r\n    </g>\r\n    <g id=\"ytick_2\">\r\n     <g id=\"line2d_8\">\r\n      <g>\r\n       <use style=\"stroke:#000000;stroke-width:0.8;\" x=\"30.103125\" xlink:href=\"#m4e57d682b2\" y=\"184.951219\"/>\r\n      </g>\r\n     </g>\r\n     <g id=\"text_8\">\r\n      <!-- 0.2 -->\r\n      <g transform=\"translate(7.2 188.750437)scale(0.1 -0.1)\">\r\n       <use xlink:href=\"#DejaVuSans-48\"/>\r\n       <use x=\"63.623047\" xlink:href=\"#DejaVuSans-46\"/>\r\n       <use x=\"95.410156\" xlink:href=\"#DejaVuSans-50\"/>\r\n      </g>\r\n     </g>\r\n    </g>\r\n    <g id=\"ytick_3\">\r\n     <g id=\"line2d_9\">\r\n      <g>\r\n       <use style=\"stroke:#000000;stroke-width:0.8;\" x=\"30.103125\" xlink:href=\"#m4e57d682b2\" y=\"141.463219\"/>\r\n      </g>\r\n     </g>\r\n     <g id=\"text_9\">\r\n      <!-- 0.4 -->\r\n      <g transform=\"translate(7.2 145.262437)scale(0.1 -0.1)\">\r\n       <use xlink:href=\"#DejaVuSans-48\"/>\r\n       <use x=\"63.623047\" xlink:href=\"#DejaVuSans-46\"/>\r\n       <use x=\"95.410156\" xlink:href=\"#DejaVuSans-52\"/>\r\n      </g>\r\n     </g>\r\n    </g>\r\n    <g id=\"ytick_4\">\r\n     <g id=\"line2d_10\">\r\n      <g>\r\n       <use style=\"stroke:#000000;stroke-width:0.8;\" x=\"30.103125\" xlink:href=\"#m4e57d682b2\" y=\"97.975219\"/>\r\n      </g>\r\n     </g>\r\n     <g id=\"text_10\">\r\n      <!-- 0.6 -->\r\n      <g transform=\"translate(7.2 101.774437)scale(0.1 -0.1)\">\r\n       <use xlink:href=\"#DejaVuSans-48\"/>\r\n       <use x=\"63.623047\" xlink:href=\"#DejaVuSans-46\"/>\r\n       <use x=\"95.410156\" xlink:href=\"#DejaVuSans-54\"/>\r\n      </g>\r\n     </g>\r\n    </g>\r\n    <g id=\"ytick_5\">\r\n     <g id=\"line2d_11\">\r\n      <g>\r\n       <use style=\"stroke:#000000;stroke-width:0.8;\" x=\"30.103125\" xlink:href=\"#m4e57d682b2\" y=\"54.487219\"/>\r\n      </g>\r\n     </g>\r\n     <g id=\"text_11\">\r\n      <!-- 0.8 -->\r\n      <g transform=\"translate(7.2 58.286437)scale(0.1 -0.1)\">\r\n       <use xlink:href=\"#DejaVuSans-48\"/>\r\n       <use x=\"63.623047\" xlink:href=\"#DejaVuSans-46\"/>\r\n       <use x=\"95.410156\" xlink:href=\"#DejaVuSans-56\"/>\r\n      </g>\r\n     </g>\r\n    </g>\r\n    <g id=\"ytick_6\">\r\n     <g id=\"line2d_12\">\r\n      <g>\r\n       <use style=\"stroke:#000000;stroke-width:0.8;\" x=\"30.103125\" xlink:href=\"#m4e57d682b2\" y=\"10.999219\"/>\r\n      </g>\r\n     </g>\r\n     <g id=\"text_12\">\r\n      <!-- 1.0 -->\r\n      <g transform=\"translate(7.2 14.798437)scale(0.1 -0.1)\">\r\n       <use xlink:href=\"#DejaVuSans-49\"/>\r\n       <use x=\"63.623047\" xlink:href=\"#DejaVuSans-46\"/>\r\n       <use x=\"95.410156\" xlink:href=\"#DejaVuSans-48\"/>\r\n      </g>\r\n     </g>\r\n    </g>\r\n   </g>\r\n   <g id=\"patch_3\">\r\n    <path d=\"M 30.103125 228.439219 \r\nL 30.103125 10.999219 \r\n\" style=\"fill:none;stroke:#000000;stroke-linecap:square;stroke-linejoin:miter;stroke-width:0.8;\"/>\r\n   </g>\r\n   <g id=\"patch_4\">\r\n    <path d=\"M 364.903125 228.439219 \r\nL 364.903125 10.999219 \r\n\" style=\"fill:none;stroke:#000000;stroke-linecap:square;stroke-linejoin:miter;stroke-width:0.8;\"/>\r\n   </g>\r\n   <g id=\"patch_5\">\r\n    <path d=\"M 30.103125 228.439219 \r\nL 364.903125 228.439219 \r\n\" style=\"fill:none;stroke:#000000;stroke-linecap:square;stroke-linejoin:miter;stroke-width:0.8;\"/>\r\n   </g>\r\n   <g id=\"patch_6\">\r\n    <path d=\"M 30.103125 10.999219 \r\nL 364.903125 10.999219 \r\n\" style=\"fill:none;stroke:#000000;stroke-linecap:square;stroke-linejoin:miter;stroke-width:0.8;\"/>\r\n   </g>\r\n  </g>\r\n </g>\r\n</svg>\r\n",
      "image/png": "[encoded data removed]"
     },
     "metadata": {
      "needs_background": "light"
     }
    }
   ],
   "source": [
    "fig, axes = plt.subplots()"
   ]
  },
  {
   "cell_type": "code",
   "execution_count": null,
   "metadata": {},
   "outputs": [],
   "source": []
  }
 ]
}