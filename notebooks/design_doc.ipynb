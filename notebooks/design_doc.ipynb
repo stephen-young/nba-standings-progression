{
 "metadata": {
  "language_info": {
   "codemirror_mode": {
    "name": "ipython",
    "version": 3
   },
   "file_extension": ".py",
   "mimetype": "text/x-python",
   "name": "python",
   "nbconvert_exporter": "python",
   "pygments_lexer": "ipython3",
   "version": 3
  },
  "orig_nbformat": 2
 },
 "nbformat": 4,
 "nbformat_minor": 2,
 "cells": [
  {
   "source": [
    "# Standings Progression Design Document\n",
    "\n",
    "Stephen Young\n",
    "\n",
    "Last updated: 3 October 2020"
   ],
   "cell_type": "markdown",
   "metadata": {}
  },
  {
   "source": [
    "## Overview\n",
    "\n",
    "I noticed that the Wikipedia pages for NBA Playoffs of [some years had graphs](https://en.wikipedia.org/wiki/2010_NBA_playoffs) showing the win percentage of the playoff qualifying teams over the course of the season. Since the graphs only showed up sporadically, I am guessing that these were graphs made by some guy by hand with, by the look of the graphs, the 2003 version of excel. However, I thought the graphs were an nice visualisation of how the standings settle out over the course of the season. I went looking on [Basketball Reference](https://www.basketball-reference.com/) and found that they tables of the standings by date showing the position and record of each team by date over the course of the season and could download the table to a spreadsheet. At the time I was also interested in learning to code in python and figured I could do so by making a package that would generate the plot of the standings progression."
   ],
   "cell_type": "markdown",
   "metadata": {}
  },
  {
   "source": [
    "## \n",
    "\n",
    "The end goal of the standings progression module will be to be able to provide a season year and conference and for it to plot the standings progression of that conference for that year. Some options that the module could have is the ability to exclude teams that miss the playoffs, plot both conferences on the same plot or two subplots beside each other. "
   ],
   "cell_type": "markdown",
   "metadata": {}
  }
 ]
}